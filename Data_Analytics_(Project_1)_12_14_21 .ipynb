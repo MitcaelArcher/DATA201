{
  "nbformat": 4,
  "nbformat_minor": 0,
  "metadata": {
    "colab": {
      "name": "Data Analytics (Project 1) - 12.14 .ipynb",
      "provenance": []
    },
    "kernelspec": {
      "name": "python3",
      "display_name": "Python 3"
    },
    "language_info": {
      "name": "python"
    }
  },
  "cells": [
    {
      "cell_type": "code",
      "execution_count": 1,
      "metadata": {
        "id": "U4FDmwDaSUUT"
      },
      "outputs": [],
      "source": [
        "import pandas as pd\n",
        "import numpy as np\n",
        "import matplotlib.pyplot as plot"
      ]
    },
    {
      "cell_type": "code",
      "source": [
        "df=pd.read_csv(\"https://raw.githubusercontent.com/CunyLaguardiaDataAnalytics/datasets/master/2014-15_To_2016-17_School-_Level_NYC_Regents_Report_For_All_Variables.csv\")"
      ],
      "metadata": {
        "id": "XNRs-aMwStY5"
      },
      "execution_count": 2,
      "outputs": []
    },
    {
      "cell_type": "code",
      "source": [
        "df.shape"
      ],
      "metadata": {
        "colab": {
          "base_uri": "https://localhost:8080/"
        },
        "id": "WNlTw4v2TA9C",
        "outputId": "f6f0f19e-0d58-4794-ad2a-9b24e587abd0"
      },
      "execution_count": 3,
      "outputs": [
        {
          "output_type": "execute_result",
          "data": {
            "text/plain": [
              "(212331, 15)"
            ]
          },
          "metadata": {},
          "execution_count": 3
        }
      ]
    },
    {
      "cell_type": "code",
      "source": [
        "df.columns"
      ],
      "metadata": {
        "colab": {
          "base_uri": "https://localhost:8080/"
        },
        "id": "u9XR8y1WTK1m",
        "outputId": "7fb81fb5-67fd-4487-908e-9b58b4ac9d26"
      },
      "execution_count": 4,
      "outputs": [
        {
          "output_type": "execute_result",
          "data": {
            "text/plain": [
              "Index(['School DBN', 'School Name', 'School Level', 'Regents Exam', 'Year',\n",
              "       'Total Tested', 'Mean Score', 'Number Scoring Below 65',\n",
              "       'Percent Scoring Below 65', 'Number Scoring 65 or Above',\n",
              "       'Percent Scoring 65 or Above', 'Number Scoring 80 or Above',\n",
              "       'Percent Scoring 80 or Above', 'Number Scoring CR',\n",
              "       'Percent Scoring CR'],\n",
              "      dtype='object')"
            ]
          },
          "metadata": {},
          "execution_count": 4
        }
      ]
    },
    {
      "cell_type": "code",
      "source": [
        "df"
      ],
      "metadata": {
        "colab": {
          "base_uri": "https://localhost:8080/",
          "height": 623
        },
        "id": "c5fo7hekTONo",
        "outputId": "c2f8f30e-4822-4e46-a536-707eb77c48db"
      },
      "execution_count": 5,
      "outputs": [
        {
          "output_type": "execute_result",
          "data": {
            "text/html": [
              "<div>\n",
              "<style scoped>\n",
              "    .dataframe tbody tr th:only-of-type {\n",
              "        vertical-align: middle;\n",
              "    }\n",
              "\n",
              "    .dataframe tbody tr th {\n",
              "        vertical-align: top;\n",
              "    }\n",
              "\n",
              "    .dataframe thead th {\n",
              "        text-align: right;\n",
              "    }\n",
              "</style>\n",
              "<table border=\"1\" class=\"dataframe\">\n",
              "  <thead>\n",
              "    <tr style=\"text-align: right;\">\n",
              "      <th></th>\n",
              "      <th>School DBN</th>\n",
              "      <th>School Name</th>\n",
              "      <th>School Level</th>\n",
              "      <th>Regents Exam</th>\n",
              "      <th>Year</th>\n",
              "      <th>Total Tested</th>\n",
              "      <th>Mean Score</th>\n",
              "      <th>Number Scoring Below 65</th>\n",
              "      <th>Percent Scoring Below 65</th>\n",
              "      <th>Number Scoring 65 or Above</th>\n",
              "      <th>Percent Scoring 65 or Above</th>\n",
              "      <th>Number Scoring 80 or Above</th>\n",
              "      <th>Percent Scoring 80 or Above</th>\n",
              "      <th>Number Scoring CR</th>\n",
              "      <th>Percent Scoring CR</th>\n",
              "    </tr>\n",
              "  </thead>\n",
              "  <tbody>\n",
              "    <tr>\n",
              "      <th>0</th>\n",
              "      <td>01M034</td>\n",
              "      <td>P.S. 034 Franklin D. Roosevelt</td>\n",
              "      <td>K-8</td>\n",
              "      <td>Common Core Algebra</td>\n",
              "      <td>2017</td>\n",
              "      <td>4</td>\n",
              "      <td>s</td>\n",
              "      <td>s</td>\n",
              "      <td>s</td>\n",
              "      <td>s</td>\n",
              "      <td>s</td>\n",
              "      <td>s</td>\n",
              "      <td>s</td>\n",
              "      <td>na</td>\n",
              "      <td>na</td>\n",
              "    </tr>\n",
              "    <tr>\n",
              "      <th>1</th>\n",
              "      <td>01M034</td>\n",
              "      <td>P.S. 034 Franklin D. Roosevelt</td>\n",
              "      <td>K-8</td>\n",
              "      <td>Living Environment</td>\n",
              "      <td>2015</td>\n",
              "      <td>16</td>\n",
              "      <td>77.9</td>\n",
              "      <td>1</td>\n",
              "      <td>6.3</td>\n",
              "      <td>15</td>\n",
              "      <td>93.8</td>\n",
              "      <td>7</td>\n",
              "      <td>43.8</td>\n",
              "      <td>na</td>\n",
              "      <td>na</td>\n",
              "    </tr>\n",
              "    <tr>\n",
              "      <th>2</th>\n",
              "      <td>01M034</td>\n",
              "      <td>P.S. 034 Franklin D. Roosevelt</td>\n",
              "      <td>K-8</td>\n",
              "      <td>Living Environment</td>\n",
              "      <td>2016</td>\n",
              "      <td>9</td>\n",
              "      <td>74</td>\n",
              "      <td>1</td>\n",
              "      <td>11.1</td>\n",
              "      <td>8</td>\n",
              "      <td>88.9</td>\n",
              "      <td>2</td>\n",
              "      <td>22.2</td>\n",
              "      <td>na</td>\n",
              "      <td>na</td>\n",
              "    </tr>\n",
              "    <tr>\n",
              "      <th>3</th>\n",
              "      <td>01M140</td>\n",
              "      <td>P.S. 140 Nathan Straus</td>\n",
              "      <td>K-8</td>\n",
              "      <td>Common Core Algebra</td>\n",
              "      <td>2016</td>\n",
              "      <td>3</td>\n",
              "      <td>s</td>\n",
              "      <td>s</td>\n",
              "      <td>s</td>\n",
              "      <td>s</td>\n",
              "      <td>s</td>\n",
              "      <td>s</td>\n",
              "      <td>s</td>\n",
              "      <td>na</td>\n",
              "      <td>na</td>\n",
              "    </tr>\n",
              "    <tr>\n",
              "      <th>4</th>\n",
              "      <td>01M140</td>\n",
              "      <td>P.S. 140 Nathan Straus</td>\n",
              "      <td>K-8</td>\n",
              "      <td>Common Core Algebra</td>\n",
              "      <td>2017</td>\n",
              "      <td>2</td>\n",
              "      <td>s</td>\n",
              "      <td>s</td>\n",
              "      <td>s</td>\n",
              "      <td>s</td>\n",
              "      <td>s</td>\n",
              "      <td>s</td>\n",
              "      <td>s</td>\n",
              "      <td>na</td>\n",
              "      <td>na</td>\n",
              "    </tr>\n",
              "    <tr>\n",
              "      <th>...</th>\n",
              "      <td>...</td>\n",
              "      <td>...</td>\n",
              "      <td>...</td>\n",
              "      <td>...</td>\n",
              "      <td>...</td>\n",
              "      <td>...</td>\n",
              "      <td>...</td>\n",
              "      <td>...</td>\n",
              "      <td>...</td>\n",
              "      <td>...</td>\n",
              "      <td>...</td>\n",
              "      <td>...</td>\n",
              "      <td>...</td>\n",
              "      <td>...</td>\n",
              "      <td>...</td>\n",
              "    </tr>\n",
              "    <tr>\n",
              "      <th>212326</th>\n",
              "      <td>84X717</td>\n",
              "      <td>Icahn Charter School</td>\n",
              "      <td>K-8</td>\n",
              "      <td>Living Environment</td>\n",
              "      <td>2016</td>\n",
              "      <td>8</td>\n",
              "      <td>s</td>\n",
              "      <td>s</td>\n",
              "      <td>s</td>\n",
              "      <td>s</td>\n",
              "      <td>s</td>\n",
              "      <td>s</td>\n",
              "      <td>s</td>\n",
              "      <td>na</td>\n",
              "      <td>na</td>\n",
              "    </tr>\n",
              "    <tr>\n",
              "      <th>212327</th>\n",
              "      <td>84X717</td>\n",
              "      <td>Icahn Charter School</td>\n",
              "      <td>K-8</td>\n",
              "      <td>Living Environment</td>\n",
              "      <td>2016</td>\n",
              "      <td>5</td>\n",
              "      <td>s</td>\n",
              "      <td>s</td>\n",
              "      <td>s</td>\n",
              "      <td>s</td>\n",
              "      <td>s</td>\n",
              "      <td>s</td>\n",
              "      <td>s</td>\n",
              "      <td>na</td>\n",
              "      <td>na</td>\n",
              "    </tr>\n",
              "    <tr>\n",
              "      <th>212328</th>\n",
              "      <td>84X717</td>\n",
              "      <td>Icahn Charter School</td>\n",
              "      <td>K-8</td>\n",
              "      <td>Living Environment</td>\n",
              "      <td>2017</td>\n",
              "      <td>6</td>\n",
              "      <td>s</td>\n",
              "      <td>s</td>\n",
              "      <td>s</td>\n",
              "      <td>s</td>\n",
              "      <td>s</td>\n",
              "      <td>s</td>\n",
              "      <td>s</td>\n",
              "      <td>na</td>\n",
              "      <td>na</td>\n",
              "    </tr>\n",
              "    <tr>\n",
              "      <th>212329</th>\n",
              "      <td>84X717</td>\n",
              "      <td>Icahn Charter School</td>\n",
              "      <td>K-8</td>\n",
              "      <td>Living Environment</td>\n",
              "      <td>2017</td>\n",
              "      <td>4</td>\n",
              "      <td>s</td>\n",
              "      <td>s</td>\n",
              "      <td>s</td>\n",
              "      <td>s</td>\n",
              "      <td>s</td>\n",
              "      <td>s</td>\n",
              "      <td>s</td>\n",
              "      <td>na</td>\n",
              "      <td>na</td>\n",
              "    </tr>\n",
              "    <tr>\n",
              "      <th>212330</th>\n",
              "      <td>84X717</td>\n",
              "      <td>Icahn Charter School</td>\n",
              "      <td>K-8</td>\n",
              "      <td>U.S. History and Government</td>\n",
              "      <td>2015</td>\n",
              "      <td>1</td>\n",
              "      <td>s</td>\n",
              "      <td>s</td>\n",
              "      <td>s</td>\n",
              "      <td>s</td>\n",
              "      <td>s</td>\n",
              "      <td>s</td>\n",
              "      <td>s</td>\n",
              "      <td>na</td>\n",
              "      <td>na</td>\n",
              "    </tr>\n",
              "  </tbody>\n",
              "</table>\n",
              "<p>212331 rows × 15 columns</p>\n",
              "</div>"
            ],
            "text/plain": [
              "       School DBN  ... Percent Scoring CR\n",
              "0          01M034  ...                 na\n",
              "1          01M034  ...                 na\n",
              "2          01M034  ...                 na\n",
              "3          01M140  ...                 na\n",
              "4          01M140  ...                 na\n",
              "...           ...  ...                ...\n",
              "212326     84X717  ...                 na\n",
              "212327     84X717  ...                 na\n",
              "212328     84X717  ...                 na\n",
              "212329     84X717  ...                 na\n",
              "212330     84X717  ...                 na\n",
              "\n",
              "[212331 rows x 15 columns]"
            ]
          },
          "metadata": {},
          "execution_count": 5
        }
      ]
    },
    {
      "cell_type": "code",
      "source": [
        "df2 = df.sort_values(by='Total Tested',ascending=False)"
      ],
      "metadata": {
        "id": "s5a0SvwUbK3c"
      },
      "execution_count": 6,
      "outputs": []
    },
    {
      "cell_type": "code",
      "source": [
        "df2"
      ],
      "metadata": {
        "colab": {
          "base_uri": "https://localhost:8080/",
          "height": 657
        },
        "id": "ADYhrf73hNlv",
        "outputId": "81e89374-51e3-4147-a4ed-846595680b82"
      },
      "execution_count": 7,
      "outputs": [
        {
          "output_type": "execute_result",
          "data": {
            "text/html": [
              "<div>\n",
              "<style scoped>\n",
              "    .dataframe tbody tr th:only-of-type {\n",
              "        vertical-align: middle;\n",
              "    }\n",
              "\n",
              "    .dataframe tbody tr th {\n",
              "        vertical-align: top;\n",
              "    }\n",
              "\n",
              "    .dataframe thead th {\n",
              "        text-align: right;\n",
              "    }\n",
              "</style>\n",
              "<table border=\"1\" class=\"dataframe\">\n",
              "  <thead>\n",
              "    <tr style=\"text-align: right;\">\n",
              "      <th></th>\n",
              "      <th>School DBN</th>\n",
              "      <th>School Name</th>\n",
              "      <th>School Level</th>\n",
              "      <th>Regents Exam</th>\n",
              "      <th>Year</th>\n",
              "      <th>Total Tested</th>\n",
              "      <th>Mean Score</th>\n",
              "      <th>Number Scoring Below 65</th>\n",
              "      <th>Percent Scoring Below 65</th>\n",
              "      <th>Number Scoring 65 or Above</th>\n",
              "      <th>Percent Scoring 65 or Above</th>\n",
              "      <th>Number Scoring 80 or Above</th>\n",
              "      <th>Percent Scoring 80 or Above</th>\n",
              "      <th>Number Scoring CR</th>\n",
              "      <th>Percent Scoring CR</th>\n",
              "    </tr>\n",
              "  </thead>\n",
              "  <tbody>\n",
              "    <tr>\n",
              "      <th>8612</th>\n",
              "      <td>13K430</td>\n",
              "      <td>Brooklyn Technical High School</td>\n",
              "      <td>High school</td>\n",
              "      <td>Physical Settings/Physics</td>\n",
              "      <td>2017</td>\n",
              "      <td>1729</td>\n",
              "      <td>82.7</td>\n",
              "      <td>122</td>\n",
              "      <td>7.1</td>\n",
              "      <td>1607</td>\n",
              "      <td>92.9</td>\n",
              "      <td>1171</td>\n",
              "      <td>67.7</td>\n",
              "      <td>na</td>\n",
              "      <td>na</td>\n",
              "    </tr>\n",
              "    <tr>\n",
              "      <th>34989</th>\n",
              "      <td>13K430</td>\n",
              "      <td>Brooklyn Technical High School</td>\n",
              "      <td>High school</td>\n",
              "      <td>Physical Settings/Physics</td>\n",
              "      <td>2017</td>\n",
              "      <td>1701</td>\n",
              "      <td>82.8</td>\n",
              "      <td>117</td>\n",
              "      <td>6.9</td>\n",
              "      <td>1584</td>\n",
              "      <td>93.1</td>\n",
              "      <td>1160</td>\n",
              "      <td>68.2</td>\n",
              "      <td>na</td>\n",
              "      <td>na</td>\n",
              "    </tr>\n",
              "    <tr>\n",
              "      <th>8611</th>\n",
              "      <td>13K430</td>\n",
              "      <td>Brooklyn Technical High School</td>\n",
              "      <td>High school</td>\n",
              "      <td>Physical Settings/Physics</td>\n",
              "      <td>2016</td>\n",
              "      <td>1648</td>\n",
              "      <td>79.8</td>\n",
              "      <td>193</td>\n",
              "      <td>11.7</td>\n",
              "      <td>1455</td>\n",
              "      <td>88.3</td>\n",
              "      <td>956</td>\n",
              "      <td>58</td>\n",
              "      <td>na</td>\n",
              "      <td>na</td>\n",
              "    </tr>\n",
              "    <tr>\n",
              "      <th>34987</th>\n",
              "      <td>13K430</td>\n",
              "      <td>Brooklyn Technical High School</td>\n",
              "      <td>High school</td>\n",
              "      <td>Physical Settings/Physics</td>\n",
              "      <td>2016</td>\n",
              "      <td>1629</td>\n",
              "      <td>79.9</td>\n",
              "      <td>189</td>\n",
              "      <td>11.6</td>\n",
              "      <td>1440</td>\n",
              "      <td>88.4</td>\n",
              "      <td>949</td>\n",
              "      <td>58.3</td>\n",
              "      <td>na</td>\n",
              "      <td>na</td>\n",
              "    </tr>\n",
              "    <tr>\n",
              "      <th>12137</th>\n",
              "      <td>20K445</td>\n",
              "      <td>New Utrecht High School</td>\n",
              "      <td>High school</td>\n",
              "      <td>Common Core English</td>\n",
              "      <td>2016</td>\n",
              "      <td>1554</td>\n",
              "      <td>70.7</td>\n",
              "      <td>360</td>\n",
              "      <td>23.2</td>\n",
              "      <td>1194</td>\n",
              "      <td>76.8</td>\n",
              "      <td>630</td>\n",
              "      <td>40.5</td>\n",
              "      <td>839</td>\n",
              "      <td>54</td>\n",
              "    </tr>\n",
              "    <tr>\n",
              "      <th>...</th>\n",
              "      <td>...</td>\n",
              "      <td>...</td>\n",
              "      <td>...</td>\n",
              "      <td>...</td>\n",
              "      <td>...</td>\n",
              "      <td>...</td>\n",
              "      <td>...</td>\n",
              "      <td>...</td>\n",
              "      <td>...</td>\n",
              "      <td>...</td>\n",
              "      <td>...</td>\n",
              "      <td>...</td>\n",
              "      <td>...</td>\n",
              "      <td>...</td>\n",
              "      <td>...</td>\n",
              "    </tr>\n",
              "    <tr>\n",
              "      <th>102097</th>\n",
              "      <td>84X393</td>\n",
              "      <td>University Prep Charter High School</td>\n",
              "      <td>High school</td>\n",
              "      <td>Algebra2/Trigonometry</td>\n",
              "      <td>2016</td>\n",
              "      <td>1</td>\n",
              "      <td>s</td>\n",
              "      <td>s</td>\n",
              "      <td>s</td>\n",
              "      <td>s</td>\n",
              "      <td>s</td>\n",
              "      <td>s</td>\n",
              "      <td>s</td>\n",
              "      <td>na</td>\n",
              "      <td>na</td>\n",
              "    </tr>\n",
              "    <tr>\n",
              "      <th>185421</th>\n",
              "      <td>21K281</td>\n",
              "      <td>I.S. 281 Joseph B Cavallaro</td>\n",
              "      <td>Junior High-Intermediate-Middle</td>\n",
              "      <td>Common Core Algebra</td>\n",
              "      <td>2015</td>\n",
              "      <td>1</td>\n",
              "      <td>s</td>\n",
              "      <td>s</td>\n",
              "      <td>s</td>\n",
              "      <td>s</td>\n",
              "      <td>s</td>\n",
              "      <td>s</td>\n",
              "      <td>s</td>\n",
              "      <td>na</td>\n",
              "      <td>na</td>\n",
              "    </tr>\n",
              "    <tr>\n",
              "      <th>102111</th>\n",
              "      <td>84X393</td>\n",
              "      <td>University Prep Charter High School</td>\n",
              "      <td>High school</td>\n",
              "      <td>Common Core Algebra2</td>\n",
              "      <td>2016</td>\n",
              "      <td>1</td>\n",
              "      <td>s</td>\n",
              "      <td>s</td>\n",
              "      <td>s</td>\n",
              "      <td>s</td>\n",
              "      <td>s</td>\n",
              "      <td>s</td>\n",
              "      <td>s</td>\n",
              "      <td>na</td>\n",
              "      <td>na</td>\n",
              "    </tr>\n",
              "    <tr>\n",
              "      <th>185419</th>\n",
              "      <td>21K281</td>\n",
              "      <td>I.S. 281 Joseph B Cavallaro</td>\n",
              "      <td>Junior High-Intermediate-Middle</td>\n",
              "      <td>Common Core Algebra</td>\n",
              "      <td>2015</td>\n",
              "      <td>1</td>\n",
              "      <td>s</td>\n",
              "      <td>s</td>\n",
              "      <td>s</td>\n",
              "      <td>s</td>\n",
              "      <td>s</td>\n",
              "      <td>s</td>\n",
              "      <td>s</td>\n",
              "      <td>na</td>\n",
              "      <td>na</td>\n",
              "    </tr>\n",
              "    <tr>\n",
              "      <th>212330</th>\n",
              "      <td>84X717</td>\n",
              "      <td>Icahn Charter School</td>\n",
              "      <td>K-8</td>\n",
              "      <td>U.S. History and Government</td>\n",
              "      <td>2015</td>\n",
              "      <td>1</td>\n",
              "      <td>s</td>\n",
              "      <td>s</td>\n",
              "      <td>s</td>\n",
              "      <td>s</td>\n",
              "      <td>s</td>\n",
              "      <td>s</td>\n",
              "      <td>s</td>\n",
              "      <td>na</td>\n",
              "      <td>na</td>\n",
              "    </tr>\n",
              "  </tbody>\n",
              "</table>\n",
              "<p>212331 rows × 15 columns</p>\n",
              "</div>"
            ],
            "text/plain": [
              "       School DBN  ... Percent Scoring CR\n",
              "8612       13K430  ...                 na\n",
              "34989      13K430  ...                 na\n",
              "8611       13K430  ...                 na\n",
              "34987      13K430  ...                 na\n",
              "12137      20K445  ...                 54\n",
              "...           ...  ...                ...\n",
              "102097     84X393  ...                 na\n",
              "185421     21K281  ...                 na\n",
              "102111     84X393  ...                 na\n",
              "185419     21K281  ...                 na\n",
              "212330     84X717  ...                 na\n",
              "\n",
              "[212331 rows x 15 columns]"
            ]
          },
          "metadata": {},
          "execution_count": 7
        }
      ]
    },
    {
      "cell_type": "code",
      "source": [
        "df3 = df2[df2['Total Tested'] > 1200]\n",
        "#This is filtering to only show schools with greater than 1,200 students tested"
      ],
      "metadata": {
        "id": "l3fWAfI0b8bL"
      },
      "execution_count": 8,
      "outputs": []
    },
    {
      "cell_type": "code",
      "source": [
        "df3.shape"
      ],
      "metadata": {
        "colab": {
          "base_uri": "https://localhost:8080/"
        },
        "id": "-w4YFEv0j99E",
        "outputId": "935752e1-f385-4dce-a84c-8be7056c1119"
      },
      "execution_count": 9,
      "outputs": [
        {
          "output_type": "execute_result",
          "data": {
            "text/plain": [
              "(73, 15)"
            ]
          },
          "metadata": {},
          "execution_count": 9
        }
      ]
    },
    {
      "cell_type": "code",
      "source": [
        "df4 = df3[((df3[\"Regents Exam\"]=='Common Core English') & (df3[\"Year\"]==2017))]\n",
        "#This is filtering only Common Core English Exams taken in the year of 2017"
      ],
      "metadata": {
        "id": "x2bVN8aQw-BM"
      },
      "execution_count": 10,
      "outputs": []
    },
    {
      "cell_type": "code",
      "source": [
        "\tdf5 = df4.drop_duplicates(subset=[\"School Name\"]) \n",
        " #This is dropping duplicate rows based on a School Name column"
      ],
      "metadata": {
        "id": "z5tsru1g4anR"
      },
      "execution_count": 11,
      "outputs": []
    },
    {
      "cell_type": "code",
      "source": [
        "df5.shape"
      ],
      "metadata": {
        "colab": {
          "base_uri": "https://localhost:8080/"
        },
        "id": "QXpxmFrgajS2",
        "outputId": "b2c23dca-1d9c-4293-b994-ec9e1abdfdf0"
      },
      "execution_count": 12,
      "outputs": [
        {
          "output_type": "execute_result",
          "data": {
            "text/plain": [
              "(6, 15)"
            ]
          },
          "metadata": {},
          "execution_count": 12
        }
      ]
    },
    {
      "cell_type": "code",
      "source": [
        "df5['School Name'].unique()\n",
        "#This is pulling all unique entries in the School Name column"
      ],
      "metadata": {
        "colab": {
          "base_uri": "https://localhost:8080/"
        },
        "id": "3tU-cAEAagdL",
        "outputId": "f9e63dea-2ba4-41ec-ad6e-54616e63ea5f"
      },
      "execution_count": 13,
      "outputs": [
        {
          "output_type": "execute_result",
          "data": {
            "text/plain": [
              "array(['New Dorp High School', 'William Cullen Bryant High School',\n",
              "       'Brooklyn Technical High School', 'Fort Hamilton High School',\n",
              "       'Francis Lewis High School', 'Midwood High School'], dtype=object)"
            ]
          },
          "metadata": {},
          "execution_count": 13
        }
      ]
    },
    {
      "cell_type": "code",
      "source": [
        "df5"
      ],
      "metadata": {
        "colab": {
          "base_uri": "https://localhost:8080/",
          "height": 354
        },
        "id": "BIHQ7Kpl_uQU",
        "outputId": "61dc5dc4-b620-4c6b-d10d-c92eb72a027a"
      },
      "execution_count": 14,
      "outputs": [
        {
          "output_type": "execute_result",
          "data": {
            "text/html": [
              "<div>\n",
              "<style scoped>\n",
              "    .dataframe tbody tr th:only-of-type {\n",
              "        vertical-align: middle;\n",
              "    }\n",
              "\n",
              "    .dataframe tbody tr th {\n",
              "        vertical-align: top;\n",
              "    }\n",
              "\n",
              "    .dataframe thead th {\n",
              "        text-align: right;\n",
              "    }\n",
              "</style>\n",
              "<table border=\"1\" class=\"dataframe\">\n",
              "  <thead>\n",
              "    <tr style=\"text-align: right;\">\n",
              "      <th></th>\n",
              "      <th>School DBN</th>\n",
              "      <th>School Name</th>\n",
              "      <th>School Level</th>\n",
              "      <th>Regents Exam</th>\n",
              "      <th>Year</th>\n",
              "      <th>Total Tested</th>\n",
              "      <th>Mean Score</th>\n",
              "      <th>Number Scoring Below 65</th>\n",
              "      <th>Percent Scoring Below 65</th>\n",
              "      <th>Number Scoring 65 or Above</th>\n",
              "      <th>Percent Scoring 65 or Above</th>\n",
              "      <th>Number Scoring 80 or Above</th>\n",
              "      <th>Percent Scoring 80 or Above</th>\n",
              "      <th>Number Scoring CR</th>\n",
              "      <th>Percent Scoring CR</th>\n",
              "    </tr>\n",
              "  </thead>\n",
              "  <tbody>\n",
              "    <tr>\n",
              "      <th>16975</th>\n",
              "      <td>31R440</td>\n",
              "      <td>New Dorp High School</td>\n",
              "      <td>High school</td>\n",
              "      <td>Common Core English</td>\n",
              "      <td>2017</td>\n",
              "      <td>1392</td>\n",
              "      <td>78.9</td>\n",
              "      <td>169</td>\n",
              "      <td>12.1</td>\n",
              "      <td>1223</td>\n",
              "      <td>87.9</td>\n",
              "      <td>891</td>\n",
              "      <td>64</td>\n",
              "      <td>1011</td>\n",
              "      <td>72.6</td>\n",
              "    </tr>\n",
              "    <tr>\n",
              "      <th>16524</th>\n",
              "      <td>30Q445</td>\n",
              "      <td>William Cullen Bryant High School</td>\n",
              "      <td>High school</td>\n",
              "      <td>Common Core English</td>\n",
              "      <td>2017</td>\n",
              "      <td>1340</td>\n",
              "      <td>65.7</td>\n",
              "      <td>432</td>\n",
              "      <td>32.2</td>\n",
              "      <td>908</td>\n",
              "      <td>67.8</td>\n",
              "      <td>423</td>\n",
              "      <td>31.6</td>\n",
              "      <td>590</td>\n",
              "      <td>44</td>\n",
              "    </tr>\n",
              "    <tr>\n",
              "      <th>8591</th>\n",
              "      <td>13K430</td>\n",
              "      <td>Brooklyn Technical High School</td>\n",
              "      <td>High school</td>\n",
              "      <td>Common Core English</td>\n",
              "      <td>2017</td>\n",
              "      <td>1333</td>\n",
              "      <td>93</td>\n",
              "      <td>0</td>\n",
              "      <td>0</td>\n",
              "      <td>1333</td>\n",
              "      <td>100</td>\n",
              "      <td>1318</td>\n",
              "      <td>98.9</td>\n",
              "      <td>1327</td>\n",
              "      <td>99.5</td>\n",
              "    </tr>\n",
              "    <tr>\n",
              "      <th>12210</th>\n",
              "      <td>20K490</td>\n",
              "      <td>Fort Hamilton High School</td>\n",
              "      <td>High school</td>\n",
              "      <td>Common Core English</td>\n",
              "      <td>2017</td>\n",
              "      <td>1274</td>\n",
              "      <td>74.2</td>\n",
              "      <td>244</td>\n",
              "      <td>19.2</td>\n",
              "      <td>1030</td>\n",
              "      <td>80.8</td>\n",
              "      <td>698</td>\n",
              "      <td>54.8</td>\n",
              "      <td>825</td>\n",
              "      <td>64.8</td>\n",
              "    </tr>\n",
              "    <tr>\n",
              "      <th>14559</th>\n",
              "      <td>26Q430</td>\n",
              "      <td>Francis Lewis High School</td>\n",
              "      <td>High school</td>\n",
              "      <td>Common Core English</td>\n",
              "      <td>2017</td>\n",
              "      <td>1258</td>\n",
              "      <td>80.8</td>\n",
              "      <td>130</td>\n",
              "      <td>10.3</td>\n",
              "      <td>1128</td>\n",
              "      <td>89.7</td>\n",
              "      <td>891</td>\n",
              "      <td>70.8</td>\n",
              "      <td>988</td>\n",
              "      <td>78.5</td>\n",
              "    </tr>\n",
              "    <tr>\n",
              "      <th>12899</th>\n",
              "      <td>22K405</td>\n",
              "      <td>Midwood High School</td>\n",
              "      <td>High school</td>\n",
              "      <td>Common Core English</td>\n",
              "      <td>2017</td>\n",
              "      <td>1224</td>\n",
              "      <td>81.5</td>\n",
              "      <td>119</td>\n",
              "      <td>9.7</td>\n",
              "      <td>1105</td>\n",
              "      <td>90.3</td>\n",
              "      <td>879</td>\n",
              "      <td>71.8</td>\n",
              "      <td>957</td>\n",
              "      <td>78.2</td>\n",
              "    </tr>\n",
              "  </tbody>\n",
              "</table>\n",
              "</div>"
            ],
            "text/plain": [
              "      School DBN  ... Percent Scoring CR\n",
              "16975     31R440  ...               72.6\n",
              "16524     30Q445  ...                 44\n",
              "8591      13K430  ...               99.5\n",
              "12210     20K490  ...               64.8\n",
              "14559     26Q430  ...               78.5\n",
              "12899     22K405  ...               78.2\n",
              "\n",
              "[6 rows x 15 columns]"
            ]
          },
          "metadata": {},
          "execution_count": 14
        }
      ]
    },
    {
      "cell_type": "code",
      "source": [
        "df6=df5.drop(['School DBN', 'School Level', 'Number Scoring CR','Percent Scoring CR', 'Number Scoring Below 65', 'Percent Scoring Below 65', 'Mean Score', 'Percent Scoring 65 or Above', 'Percent Scoring 80 or Above'], axis=1)\n",
        "#This is Removing all unnecessary columns"
      ],
      "metadata": {
        "id": "qw3K4MAsGGEC"
      },
      "execution_count": 15,
      "outputs": []
    },
    {
      "cell_type": "code",
      "source": [
        "df6"
      ],
      "metadata": {
        "colab": {
          "base_uri": "https://localhost:8080/",
          "height": 235
        },
        "id": "0Nzhh60cYwtp",
        "outputId": "87bff1f3-3e6f-4857-dfdc-40dbe8f16011"
      },
      "execution_count": 16,
      "outputs": [
        {
          "output_type": "execute_result",
          "data": {
            "text/html": [
              "<div>\n",
              "<style scoped>\n",
              "    .dataframe tbody tr th:only-of-type {\n",
              "        vertical-align: middle;\n",
              "    }\n",
              "\n",
              "    .dataframe tbody tr th {\n",
              "        vertical-align: top;\n",
              "    }\n",
              "\n",
              "    .dataframe thead th {\n",
              "        text-align: right;\n",
              "    }\n",
              "</style>\n",
              "<table border=\"1\" class=\"dataframe\">\n",
              "  <thead>\n",
              "    <tr style=\"text-align: right;\">\n",
              "      <th></th>\n",
              "      <th>School Name</th>\n",
              "      <th>Regents Exam</th>\n",
              "      <th>Year</th>\n",
              "      <th>Total Tested</th>\n",
              "      <th>Number Scoring 65 or Above</th>\n",
              "      <th>Number Scoring 80 or Above</th>\n",
              "    </tr>\n",
              "  </thead>\n",
              "  <tbody>\n",
              "    <tr>\n",
              "      <th>16975</th>\n",
              "      <td>New Dorp High School</td>\n",
              "      <td>Common Core English</td>\n",
              "      <td>2017</td>\n",
              "      <td>1392</td>\n",
              "      <td>1223</td>\n",
              "      <td>891</td>\n",
              "    </tr>\n",
              "    <tr>\n",
              "      <th>16524</th>\n",
              "      <td>William Cullen Bryant High School</td>\n",
              "      <td>Common Core English</td>\n",
              "      <td>2017</td>\n",
              "      <td>1340</td>\n",
              "      <td>908</td>\n",
              "      <td>423</td>\n",
              "    </tr>\n",
              "    <tr>\n",
              "      <th>8591</th>\n",
              "      <td>Brooklyn Technical High School</td>\n",
              "      <td>Common Core English</td>\n",
              "      <td>2017</td>\n",
              "      <td>1333</td>\n",
              "      <td>1333</td>\n",
              "      <td>1318</td>\n",
              "    </tr>\n",
              "    <tr>\n",
              "      <th>12210</th>\n",
              "      <td>Fort Hamilton High School</td>\n",
              "      <td>Common Core English</td>\n",
              "      <td>2017</td>\n",
              "      <td>1274</td>\n",
              "      <td>1030</td>\n",
              "      <td>698</td>\n",
              "    </tr>\n",
              "    <tr>\n",
              "      <th>14559</th>\n",
              "      <td>Francis Lewis High School</td>\n",
              "      <td>Common Core English</td>\n",
              "      <td>2017</td>\n",
              "      <td>1258</td>\n",
              "      <td>1128</td>\n",
              "      <td>891</td>\n",
              "    </tr>\n",
              "    <tr>\n",
              "      <th>12899</th>\n",
              "      <td>Midwood High School</td>\n",
              "      <td>Common Core English</td>\n",
              "      <td>2017</td>\n",
              "      <td>1224</td>\n",
              "      <td>1105</td>\n",
              "      <td>879</td>\n",
              "    </tr>\n",
              "  </tbody>\n",
              "</table>\n",
              "</div>"
            ],
            "text/plain": [
              "                             School Name  ... Number Scoring 80 or Above\n",
              "16975               New Dorp High School  ...                        891\n",
              "16524  William Cullen Bryant High School  ...                        423\n",
              "8591      Brooklyn Technical High School  ...                       1318\n",
              "12210          Fort Hamilton High School  ...                        698\n",
              "14559          Francis Lewis High School  ...                        891\n",
              "12899                Midwood High School  ...                        879\n",
              "\n",
              "[6 rows x 6 columns]"
            ]
          },
          "metadata": {},
          "execution_count": 16
        }
      ]
    },
    {
      "cell_type": "code",
      "source": [
        "df6.round({\"Mean Score\":2, \"Percent Scoring 80 or Above\":2})"
      ],
      "metadata": {
        "colab": {
          "base_uri": "https://localhost:8080/",
          "height": 235
        },
        "id": "0qF9kZPbkDvL",
        "outputId": "6ba45981-50e8-46fb-cd54-c38828bf86d4"
      },
      "execution_count": 17,
      "outputs": [
        {
          "output_type": "execute_result",
          "data": {
            "text/html": [
              "<div>\n",
              "<style scoped>\n",
              "    .dataframe tbody tr th:only-of-type {\n",
              "        vertical-align: middle;\n",
              "    }\n",
              "\n",
              "    .dataframe tbody tr th {\n",
              "        vertical-align: top;\n",
              "    }\n",
              "\n",
              "    .dataframe thead th {\n",
              "        text-align: right;\n",
              "    }\n",
              "</style>\n",
              "<table border=\"1\" class=\"dataframe\">\n",
              "  <thead>\n",
              "    <tr style=\"text-align: right;\">\n",
              "      <th></th>\n",
              "      <th>School Name</th>\n",
              "      <th>Regents Exam</th>\n",
              "      <th>Year</th>\n",
              "      <th>Total Tested</th>\n",
              "      <th>Number Scoring 65 or Above</th>\n",
              "      <th>Number Scoring 80 or Above</th>\n",
              "    </tr>\n",
              "  </thead>\n",
              "  <tbody>\n",
              "    <tr>\n",
              "      <th>16975</th>\n",
              "      <td>New Dorp High School</td>\n",
              "      <td>Common Core English</td>\n",
              "      <td>2017</td>\n",
              "      <td>1392</td>\n",
              "      <td>1223</td>\n",
              "      <td>891</td>\n",
              "    </tr>\n",
              "    <tr>\n",
              "      <th>16524</th>\n",
              "      <td>William Cullen Bryant High School</td>\n",
              "      <td>Common Core English</td>\n",
              "      <td>2017</td>\n",
              "      <td>1340</td>\n",
              "      <td>908</td>\n",
              "      <td>423</td>\n",
              "    </tr>\n",
              "    <tr>\n",
              "      <th>8591</th>\n",
              "      <td>Brooklyn Technical High School</td>\n",
              "      <td>Common Core English</td>\n",
              "      <td>2017</td>\n",
              "      <td>1333</td>\n",
              "      <td>1333</td>\n",
              "      <td>1318</td>\n",
              "    </tr>\n",
              "    <tr>\n",
              "      <th>12210</th>\n",
              "      <td>Fort Hamilton High School</td>\n",
              "      <td>Common Core English</td>\n",
              "      <td>2017</td>\n",
              "      <td>1274</td>\n",
              "      <td>1030</td>\n",
              "      <td>698</td>\n",
              "    </tr>\n",
              "    <tr>\n",
              "      <th>14559</th>\n",
              "      <td>Francis Lewis High School</td>\n",
              "      <td>Common Core English</td>\n",
              "      <td>2017</td>\n",
              "      <td>1258</td>\n",
              "      <td>1128</td>\n",
              "      <td>891</td>\n",
              "    </tr>\n",
              "    <tr>\n",
              "      <th>12899</th>\n",
              "      <td>Midwood High School</td>\n",
              "      <td>Common Core English</td>\n",
              "      <td>2017</td>\n",
              "      <td>1224</td>\n",
              "      <td>1105</td>\n",
              "      <td>879</td>\n",
              "    </tr>\n",
              "  </tbody>\n",
              "</table>\n",
              "</div>"
            ],
            "text/plain": [
              "                             School Name  ... Number Scoring 80 or Above\n",
              "16975               New Dorp High School  ...                        891\n",
              "16524  William Cullen Bryant High School  ...                        423\n",
              "8591      Brooklyn Technical High School  ...                       1318\n",
              "12210          Fort Hamilton High School  ...                        698\n",
              "14559          Francis Lewis High School  ...                        891\n",
              "12899                Midwood High School  ...                        879\n",
              "\n",
              "[6 rows x 6 columns]"
            ]
          },
          "metadata": {},
          "execution_count": 17
        }
      ]
    },
    {
      "cell_type": "code",
      "source": [
        "df6.dtypes\n",
        "#This is showing the different data types"
      ],
      "metadata": {
        "colab": {
          "base_uri": "https://localhost:8080/"
        },
        "id": "0QVyWYboq4mT",
        "outputId": "b1ca74d2-1431-4be6-fa7e-40c3ad4e906e"
      },
      "execution_count": 18,
      "outputs": [
        {
          "output_type": "execute_result",
          "data": {
            "text/plain": [
              "School Name                   object\n",
              "Regents Exam                  object\n",
              "Year                           int64\n",
              "Total Tested                   int64\n",
              "Number Scoring 65 or Above    object\n",
              "Number Scoring 80 or Above    object\n",
              "dtype: object"
            ]
          },
          "metadata": {},
          "execution_count": 18
        }
      ]
    },
    {
      "cell_type": "code",
      "source": [
        "df6[\"Number Scoring 65 or Above\"] = df6[\"Number Scoring 65 or Above\"].astype(str).astype(int)\n",
        "#This is changing the data type from string to integer"
      ],
      "metadata": {
        "id": "dvDvD4GRoNru"
      },
      "execution_count": 19,
      "outputs": []
    },
    {
      "cell_type": "code",
      "source": [
        "df6[\"Number Scoring 80 or Above\"] = df6[\"Number Scoring 80 or Above\"].astype(str).astype(int)\n",
        "#This is changing the data type from string to integer"
      ],
      "metadata": {
        "id": "gNCgywuuop5l"
      },
      "execution_count": 20,
      "outputs": []
    },
    {
      "cell_type": "code",
      "source": [
        "df6[\"Year\"] = df6[\"Year\"].astype(int).astype(str)\n",
        "#This is changing the data type from interger to string"
      ],
      "metadata": {
        "id": "_kzKI9qyqt9n"
      },
      "execution_count": 21,
      "outputs": []
    },
    {
      "cell_type": "code",
      "source": [
        "df6.dtypes\n",
        "#This is showing the different updated data types after converting"
      ],
      "metadata": {
        "colab": {
          "base_uri": "https://localhost:8080/"
        },
        "id": "WdK-6ZeIolUB",
        "outputId": "549c1bda-037a-4e25-8778-6bb6ed02d119"
      },
      "execution_count": 23,
      "outputs": [
        {
          "output_type": "execute_result",
          "data": {
            "text/plain": [
              "School Name                   object\n",
              "Regents Exam                  object\n",
              "Year                          object\n",
              "Total Tested                   int64\n",
              "Number Scoring 65 or Above     int64\n",
              "Number Scoring 80 or Above     int64\n",
              "dtype: object"
            ]
          },
          "metadata": {},
          "execution_count": 23
        }
      ]
    },
    {
      "cell_type": "code",
      "source": [
        "df6.plot(kind = 'box', x = 'Year', y = 'Total Tested')\n",
        "#This is box plot is showing the total tested between the 6 schools. The median is close to 1300 students"
      ],
      "metadata": {
        "colab": {
          "base_uri": "https://localhost:8080/",
          "height": 286
        },
        "id": "z8TKvQuBvO38",
        "outputId": "87fc67e6-a675-4682-ed41-cb7d3fb37a73"
      },
      "execution_count": 32,
      "outputs": [
        {
          "output_type": "execute_result",
          "data": {
            "text/plain": [
              "<matplotlib.axes._subplots.AxesSubplot at 0x7f2ada6cfb10>"
            ]
          },
          "metadata": {},
          "execution_count": 32
        },
        {
          "output_type": "display_data",
          "data": {
            "image/png": "[encoded data removed]",
            "text/plain": [
              "<Figure size 432x288 with 1 Axes>"
            ]
          },
          "metadata": {
            "needs_background": "light"
          }
        }
      ]
    },
    {
      "cell_type": "code",
      "source": [
        "df6.plot(kind = 'bar', x = 'School Name', y = 'Number Scoring 65 or Above')\n",
        "#This is a bar chart of the number of students that have an 65 or above score."
      ],
      "metadata": {
        "colab": {
          "base_uri": "https://localhost:8080/",
          "height": 457
        },
        "id": "abWJN_v2rOvC",
        "outputId": "7743e297-ab88-4e70-eb10-4e3f36ec5d0a"
      },
      "execution_count": 25,
      "outputs": [
        {
          "output_type": "execute_result",
          "data": {
            "text/plain": [
              "<matplotlib.axes._subplots.AxesSubplot at 0x7f2adafdc990>"
            ]
          },
          "metadata": {},
          "execution_count": 25
        },
        {
          "output_type": "display_data",
          "data": {
            "image/png": "[encoded data removed]",
            "text/plain": [
              "<Figure size 432x288 with 1 Axes>"
            ]
          },
          "metadata": {
            "needs_background": "light"
          }
        }
      ]
    },
    {
      "cell_type": "code",
      "source": [
        "df6.plot(kind = 'bar', x = 'School Name', y = 'Number Scoring 80 or Above')\n",
        "#This is a bar chart of the number of students that have an 80 or above score."
      ],
      "metadata": {
        "colab": {
          "base_uri": "https://localhost:8080/",
          "height": 457
        },
        "id": "3_7AgjWBvHS6",
        "outputId": "b461b531-9631-4a0e-db63-95efe77061dd"
      },
      "execution_count": 30,
      "outputs": [
        {
          "output_type": "execute_result",
          "data": {
            "text/plain": [
              "<matplotlib.axes._subplots.AxesSubplot at 0x7f2ada7b9a90>"
            ]
          },
          "metadata": {},
          "execution_count": 30
        },
        {
          "output_type": "display_data",
          "data": {
            "image/png": "[encoded data removed]",
            "text/plain": [
              "<Figure size 432x288 with 1 Axes>"
            ]
          },
          "metadata": {
            "needs_background": "light"
          }
        }
      ]
    },
    {
      "cell_type": "markdown",
      "source": [
        "For my project, I did not want to focus on a single school and chose to focus on the schools that have tested for Common Core English with over 1,200 students taking the exam, which brought me to 6 schools. I was having some trouble converting the data types of the mean score and the percentages so I could only work with the number of students. Therefore I created 3 visuals: The first visual shows the total tested between the 6 schools and was able to identify that the median is roughly around 1300 students. The second visual shows the number of students that have an 65 or above score, the school with the most was Brooklyn Technical High School. The third visual shows the number of students that have an 80 or above score, the school with the most was Brooklyn Technical High School."
      ],
      "metadata": {
        "id": "CHS5Qt7qcOvI"
      }
    }
  ]
}