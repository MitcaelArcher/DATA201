{
  "nbformat": 4,
  "nbformat_minor": 0,
  "metadata": {
    "colab": {
      "name": "Project # 3",
      "provenance": []
    },
    "kernelspec": {
      "name": "python3",
      "display_name": "Python 3"
    },
    "language_info": {
      "name": "python"
    }
  },
  "cells": [
    {
      "cell_type": "code",
      "execution_count": null,
      "metadata": {
        "id": "E-7RkgVzvE7F"
      },
      "outputs": [],
      "source": [
        "import pandas as pd\n",
        "import numpy as np\n",
        "import matplotlib.pyplot as plt\n",
        "import seaborn as sns"
      ]
    },
    {
      "cell_type": "code",
      "source": [
        "df=pd.read_csv(\"https://raw.githubusercontent.com/MitcaelArcher/DATA201/main/NYPD_Arrest_Data__Year_to_Date_.csv\")\n",
        "#This is reading the CSV"
      ],
      "metadata": {
        "id": "46hG7QzcvnpC"
      },
      "execution_count": null,
      "outputs": []
    },
    {
      "cell_type": "code",
      "source": [
        "df\n",
        "#This is looking at all columns - the first 5 and last 5 rows"
      ],
      "metadata": {
        "colab": {
          "base_uri": "https://localhost:8080/",
          "height": 874
        },
        "id": "IC_kDjlqv0QX",
        "outputId": "63fe5b57-32fd-4aff-9d8e-b9a1443fece1"
      },
      "execution_count": null,
      "outputs": [
        {
          "output_type": "execute_result",
          "data": {
            "text/html": [
              "\n",
              "  <div id=\"df-ff0c513c-2520-44d6-91c0-93c639134021\">\n",
              "    <div class=\"colab-df-container\">\n",
              "      <div>\n",
              "<style scoped>\n",
              "    .dataframe tbody tr th:only-of-type {\n",
              "        vertical-align: middle;\n",
              "    }\n",
              "\n",
              "    .dataframe tbody tr th {\n",
              "        vertical-align: top;\n",
              "    }\n",
              "\n",
              "    .dataframe thead th {\n",
              "        text-align: right;\n",
              "    }\n",
              "</style>\n",
              "<table border=\"1\" class=\"dataframe\">\n",
              "  <thead>\n",
              "    <tr style=\"text-align: right;\">\n",
              "      <th></th>\n",
              "      <th>ARREST_KEY</th>\n",
              "      <th>ARREST_DATE</th>\n",
              "      <th>PD_CD</th>\n",
              "      <th>PD_DESC</th>\n",
              "      <th>KY_CD</th>\n",
              "      <th>OFNS_DESC</th>\n",
              "      <th>LAW_CODE</th>\n",
              "      <th>LAW_CAT_CD</th>\n",
              "      <th>ARREST_BORO</th>\n",
              "      <th>ARREST_PRECINCT</th>\n",
              "      <th>JURISDICTION_CODE</th>\n",
              "      <th>AGE_GROUP</th>\n",
              "      <th>PERP_SEX</th>\n",
              "      <th>PERP_RACE</th>\n",
              "      <th>X_COORD_CD</th>\n",
              "      <th>Y_COORD_CD</th>\n",
              "      <th>Latitude</th>\n",
              "      <th>Longitude</th>\n",
              "      <th>New Georeferenced Column</th>\n",
              "    </tr>\n",
              "  </thead>\n",
              "  <tbody>\n",
              "    <tr>\n",
              "      <th>0</th>\n",
              "      <td>234233843</td>\n",
              "      <td>09/29/2021</td>\n",
              "      <td>105.0</td>\n",
              "      <td>STRANGULATION 1ST</td>\n",
              "      <td>106.0</td>\n",
              "      <td>FELONY ASSAULT</td>\n",
              "      <td>PL 1211200</td>\n",
              "      <td>F</td>\n",
              "      <td>B</td>\n",
              "      <td>42</td>\n",
              "      <td>0</td>\n",
              "      <td>25-44</td>\n",
              "      <td>M</td>\n",
              "      <td>BLACK</td>\n",
              "      <td>1009231</td>\n",
              "      <td>240290</td>\n",
              "      <td>40.826189</td>\n",
              "      <td>-73.909738</td>\n",
              "      <td>POINT (-73.90973778899996 40.82618898100003)</td>\n",
              "    </tr>\n",
              "    <tr>\n",
              "      <th>1</th>\n",
              "      <td>234129823</td>\n",
              "      <td>09/27/2021</td>\n",
              "      <td>157.0</td>\n",
              "      <td>RAPE 1</td>\n",
              "      <td>104.0</td>\n",
              "      <td>RAPE</td>\n",
              "      <td>PL 1303501</td>\n",
              "      <td>F</td>\n",
              "      <td>K</td>\n",
              "      <td>77</td>\n",
              "      <td>0</td>\n",
              "      <td>25-44</td>\n",
              "      <td>M</td>\n",
              "      <td>BLACK</td>\n",
              "      <td>1003606</td>\n",
              "      <td>185050</td>\n",
              "      <td>40.674583</td>\n",
              "      <td>-73.930222</td>\n",
              "      <td>POINT (-73.93022154099998 40.67458330800008)</td>\n",
              "    </tr>\n",
              "    <tr>\n",
              "      <th>2</th>\n",
              "      <td>234040747</td>\n",
              "      <td>09/25/2021</td>\n",
              "      <td>109.0</td>\n",
              "      <td>ASSAULT 2,1,UNCLASSIFIED</td>\n",
              "      <td>106.0</td>\n",
              "      <td>FELONY ASSAULT</td>\n",
              "      <td>PL 1200501</td>\n",
              "      <td>F</td>\n",
              "      <td>Q</td>\n",
              "      <td>101</td>\n",
              "      <td>0</td>\n",
              "      <td>25-44</td>\n",
              "      <td>M</td>\n",
              "      <td>BLACK</td>\n",
              "      <td>1049232</td>\n",
              "      <td>159210</td>\n",
              "      <td>40.603441</td>\n",
              "      <td>-73.765986</td>\n",
              "      <td>POINT (-73.76598558899997 40.60344094100003)</td>\n",
              "    </tr>\n",
              "    <tr>\n",
              "      <th>3</th>\n",
              "      <td>234047720</td>\n",
              "      <td>09/25/2021</td>\n",
              "      <td>101.0</td>\n",
              "      <td>ASSAULT 3</td>\n",
              "      <td>344.0</td>\n",
              "      <td>ASSAULT 3 &amp; RELATED OFFENSES</td>\n",
              "      <td>PL 1200001</td>\n",
              "      <td>M</td>\n",
              "      <td>B</td>\n",
              "      <td>44</td>\n",
              "      <td>0</td>\n",
              "      <td>25-44</td>\n",
              "      <td>M</td>\n",
              "      <td>BLACK</td>\n",
              "      <td>1006537</td>\n",
              "      <td>244511</td>\n",
              "      <td>40.837782</td>\n",
              "      <td>-73.919458</td>\n",
              "      <td>POINT (-73.91945797099999 40.83778161800007)</td>\n",
              "    </tr>\n",
              "    <tr>\n",
              "      <th>4</th>\n",
              "      <td>234042526</td>\n",
              "      <td>09/25/2021</td>\n",
              "      <td>101.0</td>\n",
              "      <td>ASSAULT 3</td>\n",
              "      <td>344.0</td>\n",
              "      <td>ASSAULT 3 &amp; RELATED OFFENSES</td>\n",
              "      <td>PL 1200001</td>\n",
              "      <td>M</td>\n",
              "      <td>B</td>\n",
              "      <td>44</td>\n",
              "      <td>0</td>\n",
              "      <td>25-44</td>\n",
              "      <td>M</td>\n",
              "      <td>BLACK</td>\n",
              "      <td>1007418</td>\n",
              "      <td>243859</td>\n",
              "      <td>40.835990</td>\n",
              "      <td>-73.916276</td>\n",
              "      <td>POINT (-73.91627635999998 40.83598980000005)</td>\n",
              "    </tr>\n",
              "    <tr>\n",
              "      <th>...</th>\n",
              "      <td>...</td>\n",
              "      <td>...</td>\n",
              "      <td>...</td>\n",
              "      <td>...</td>\n",
              "      <td>...</td>\n",
              "      <td>...</td>\n",
              "      <td>...</td>\n",
              "      <td>...</td>\n",
              "      <td>...</td>\n",
              "      <td>...</td>\n",
              "      <td>...</td>\n",
              "      <td>...</td>\n",
              "      <td>...</td>\n",
              "      <td>...</td>\n",
              "      <td>...</td>\n",
              "      <td>...</td>\n",
              "      <td>...</td>\n",
              "      <td>...</td>\n",
              "      <td>...</td>\n",
              "    </tr>\n",
              "    <tr>\n",
              "      <th>115294</th>\n",
              "      <td>222689440</td>\n",
              "      <td>01/06/2021</td>\n",
              "      <td>109.0</td>\n",
              "      <td>ASSAULT 2,1,UNCLASSIFIED</td>\n",
              "      <td>106.0</td>\n",
              "      <td>FELONY ASSAULT</td>\n",
              "      <td>PL 1200501</td>\n",
              "      <td>F</td>\n",
              "      <td>Q</td>\n",
              "      <td>102</td>\n",
              "      <td>0</td>\n",
              "      <td>18-24</td>\n",
              "      <td>M</td>\n",
              "      <td>ASIAN / PACIFIC ISLANDER</td>\n",
              "      <td>1031076</td>\n",
              "      <td>193779</td>\n",
              "      <td>40.698440</td>\n",
              "      <td>-73.831130</td>\n",
              "      <td>POINT (-73.83112953899997 40.69843969400005)</td>\n",
              "    </tr>\n",
              "    <tr>\n",
              "      <th>115295</th>\n",
              "      <td>222626401</td>\n",
              "      <td>01/05/2021</td>\n",
              "      <td>109.0</td>\n",
              "      <td>ASSAULT 2,1,UNCLASSIFIED</td>\n",
              "      <td>106.0</td>\n",
              "      <td>FELONY ASSAULT</td>\n",
              "      <td>PL 1200502</td>\n",
              "      <td>F</td>\n",
              "      <td>B</td>\n",
              "      <td>49</td>\n",
              "      <td>0</td>\n",
              "      <td>25-44</td>\n",
              "      <td>M</td>\n",
              "      <td>BLACK HISPANIC</td>\n",
              "      <td>1027430</td>\n",
              "      <td>251105</td>\n",
              "      <td>40.855803</td>\n",
              "      <td>-73.843910</td>\n",
              "      <td>POINT (-73.84390995399998 40.85580274300003)</td>\n",
              "    </tr>\n",
              "    <tr>\n",
              "      <th>115296</th>\n",
              "      <td>222477062</td>\n",
              "      <td>01/01/2021</td>\n",
              "      <td>922.0</td>\n",
              "      <td>TRAFFIC,UNCLASSIFIED MISDEMEAN</td>\n",
              "      <td>348.0</td>\n",
              "      <td>VEHICLE AND TRAFFIC LAWS</td>\n",
              "      <td>VTL0511001</td>\n",
              "      <td>M</td>\n",
              "      <td>B</td>\n",
              "      <td>50</td>\n",
              "      <td>0</td>\n",
              "      <td>25-44</td>\n",
              "      <td>M</td>\n",
              "      <td>WHITE HISPANIC</td>\n",
              "      <td>1011047</td>\n",
              "      <td>256269</td>\n",
              "      <td>40.870041</td>\n",
              "      <td>-73.903112</td>\n",
              "      <td>POINT (-73.90311219699998 40.870041281000056)</td>\n",
              "    </tr>\n",
              "    <tr>\n",
              "      <th>115297</th>\n",
              "      <td>222728174</td>\n",
              "      <td>01/07/2021</td>\n",
              "      <td>339.0</td>\n",
              "      <td>LARCENY,PETIT FROM OPEN AREAS,</td>\n",
              "      <td>341.0</td>\n",
              "      <td>PETIT LARCENY</td>\n",
              "      <td>PL 1552500</td>\n",
              "      <td>M</td>\n",
              "      <td>Q</td>\n",
              "      <td>114</td>\n",
              "      <td>0</td>\n",
              "      <td>25-44</td>\n",
              "      <td>M</td>\n",
              "      <td>WHITE HISPANIC</td>\n",
              "      <td>1007694</td>\n",
              "      <td>219657</td>\n",
              "      <td>40.769561</td>\n",
              "      <td>-73.915363</td>\n",
              "      <td>POINT (-73.91536344699995 40.76956124200007)</td>\n",
              "    </tr>\n",
              "    <tr>\n",
              "      <th>115298</th>\n",
              "      <td>222535613</td>\n",
              "      <td>01/03/2021</td>\n",
              "      <td>792.0</td>\n",
              "      <td>WEAPONS POSSESSION 1 &amp; 2</td>\n",
              "      <td>118.0</td>\n",
              "      <td>DANGEROUS WEAPONS</td>\n",
              "      <td>PL 265031B</td>\n",
              "      <td>F</td>\n",
              "      <td>K</td>\n",
              "      <td>67</td>\n",
              "      <td>0</td>\n",
              "      <td>25-44</td>\n",
              "      <td>M</td>\n",
              "      <td>BLACK</td>\n",
              "      <td>1000054</td>\n",
              "      <td>173952</td>\n",
              "      <td>40.644129</td>\n",
              "      <td>-73.943053</td>\n",
              "      <td>POINT (-73.94305278599995 40.64412879400004)</td>\n",
              "    </tr>\n",
              "  </tbody>\n",
              "</table>\n",
              "<p>115299 rows × 19 columns</p>\n",
              "</div>\n",
              "      <button class=\"colab-df-convert\" onclick=\"convertToInteractive('df-ff0c513c-2520-44d6-91c0-93c639134021')\"\n",
              "              title=\"Convert this dataframe to an interactive table.\"\n",
              "              style=\"display:none;\">\n",
              "        \n",
              "  <svg xmlns=\"http://www.w3.org/2000/svg\" height=\"24px\"viewBox=\"0 0 24 24\"\n",
              "       width=\"24px\">\n",
              "    <path d=\"M0 0h24v24H0V0z\" fill=\"none\"/>\n",
              "    <path d=\"M18.56 5.44l.94 2.06.94-2.06 2.06-.94-2.06-.94-.94-2.06-.94 2.06-2.06.94zm-11 1L8.5 8.5l.94-2.06 2.06-.94-2.06-.94L8.5 2.5l-.94 2.06-2.06.94zm10 10l.94 2.06.94-2.06 2.06-.94-2.06-.94-.94-2.06-.94 2.06-2.06.94z\"/><path d=\"M17.41 7.96l-1.37-1.37c-.4-.4-.92-.59-1.43-.59-.52 0-1.04.2-1.43.59L10.3 9.45l-7.72 7.72c-.78.78-.78 2.05 0 2.83L4 21.41c.39.39.9.59 1.41.59.51 0 1.02-.2 1.41-.59l7.78-7.78 2.81-2.81c.8-.78.8-2.07 0-2.86zM5.41 20L4 18.59l7.72-7.72 1.47 1.35L5.41 20z\"/>\n",
              "  </svg>\n",
              "      </button>\n",
              "      \n",
              "  <style>\n",
              "    .colab-df-container {\n",
              "      display:flex;\n",
              "      flex-wrap:wrap;\n",
              "      gap: 12px;\n",
              "    }\n",
              "\n",
              "    .colab-df-convert {\n",
              "      background-color: #E8F0FE;\n",
              "      border: none;\n",
              "      border-radius: 50%;\n",
              "      cursor: pointer;\n",
              "      display: none;\n",
              "      fill: #1967D2;\n",
              "      height: 32px;\n",
              "      padding: 0 0 0 0;\n",
              "      width: 32px;\n",
              "    }\n",
              "\n",
              "    .colab-df-convert:hover {\n",
              "      background-color: #E2EBFA;\n",
              "      box-shadow: 0px 1px 2px rgba(60, 64, 67, 0.3), 0px 1px 3px 1px rgba(60, 64, 67, 0.15);\n",
              "      fill: #174EA6;\n",
              "    }\n",
              "\n",
              "    [theme=dark] .colab-df-convert {\n",
              "      background-color: #3B4455;\n",
              "      fill: #D2E3FC;\n",
              "    }\n",
              "\n",
              "    [theme=dark] .colab-df-convert:hover {\n",
              "      background-color: #434B5C;\n",
              "      box-shadow: 0px 1px 3px 1px rgba(0, 0, 0, 0.15);\n",
              "      filter: drop-shadow(0px 1px 2px rgba(0, 0, 0, 0.3));\n",
              "      fill: #FFFFFF;\n",
              "    }\n",
              "  </style>\n",
              "\n",
              "      <script>\n",
              "        const buttonEl =\n",
              "          document.querySelector('#df-ff0c513c-2520-44d6-91c0-93c639134021 button.colab-df-convert');\n",
              "        buttonEl.style.display =\n",
              "          google.colab.kernel.accessAllowed ? 'block' : 'none';\n",
              "\n",
              "        async function convertToInteractive(key) {\n",
              "          const element = document.querySelector('#df-ff0c513c-2520-44d6-91c0-93c639134021');\n",
              "          const dataTable =\n",
              "            await google.colab.kernel.invokeFunction('convertToInteractive',\n",
              "                                                     [key], {});\n",
              "          if (!dataTable) return;\n",
              "\n",
              "          const docLinkHtml = 'Like what you see? Visit the ' +\n",
              "            '<a target=\"_blank\" href=https://colab.research.google.com/notebooks/data_table.ipynb>data table notebook</a>'\n",
              "            + ' to learn more about interactive tables.';\n",
              "          element.innerHTML = '';\n",
              "          dataTable['output_type'] = 'display_data';\n",
              "          await google.colab.output.renderOutput(dataTable, element);\n",
              "          const docLink = document.createElement('div');\n",
              "          docLink.innerHTML = docLinkHtml;\n",
              "          element.appendChild(docLink);\n",
              "        }\n",
              "      </script>\n",
              "    </div>\n",
              "  </div>\n",
              "  "
            ],
            "text/plain": [
              "        ARREST_KEY  ...                       New Georeferenced Column\n",
              "0        234233843  ...   POINT (-73.90973778899996 40.82618898100003)\n",
              "1        234129823  ...   POINT (-73.93022154099998 40.67458330800008)\n",
              "2        234040747  ...   POINT (-73.76598558899997 40.60344094100003)\n",
              "3        234047720  ...   POINT (-73.91945797099999 40.83778161800007)\n",
              "4        234042526  ...   POINT (-73.91627635999998 40.83598980000005)\n",
              "...            ...  ...                                            ...\n",
              "115294   222689440  ...   POINT (-73.83112953899997 40.69843969400005)\n",
              "115295   222626401  ...   POINT (-73.84390995399998 40.85580274300003)\n",
              "115296   222477062  ...  POINT (-73.90311219699998 40.870041281000056)\n",
              "115297   222728174  ...   POINT (-73.91536344699995 40.76956124200007)\n",
              "115298   222535613  ...   POINT (-73.94305278599995 40.64412879400004)\n",
              "\n",
              "[115299 rows x 19 columns]"
            ]
          },
          "metadata": {},
          "execution_count": 3
        }
      ]
    },
    {
      "cell_type": "markdown",
      "source": [
        "Question: What are the three highest perpetrating groups by race, sex, and age?"
      ],
      "metadata": {
        "id": "C1UZMMxt1owa"
      }
    },
    {
      "cell_type": "code",
      "source": [
        "df['PERP_RACE'].value_counts().plot(kind='barh');\n",
        "#This is a graph by race"
      ],
      "metadata": {
        "colab": {
          "base_uri": "https://localhost:8080/",
          "height": 265
        },
        "id": "bmHEVusc2AXB",
        "outputId": "c30c0972-4a5e-48dd-b20b-b8329f973d59"
      },
      "execution_count": null,
      "outputs": [
        {
          "output_type": "display_data",
          "data": {
            "image/png": "[encoded data removed]",
            "text/plain": [
              "<Figure size 432x288 with 1 Axes>"
            ]
          },
          "metadata": {
            "needs_background": "light"
          }
        }
      ]
    },
    {
      "cell_type": "code",
      "source": [
        "df['AGE_GROUP'].value_counts().plot(kind='bar');\n",
        "#This is a graph by age"
      ],
      "metadata": {
        "colab": {
          "base_uri": "https://localhost:8080/",
          "height": 284
        },
        "id": "--UbkUFk558a",
        "outputId": "fc806c05-384a-4347-f8fa-57aab5c49531"
      },
      "execution_count": null,
      "outputs": [
        {
          "output_type": "display_data",
          "data": {
            "image/png": "[encoded data removed]",
            "text/plain": [
              "<Figure size 432x288 with 1 Axes>"
            ]
          },
          "metadata": {
            "needs_background": "light"
          }
        }
      ]
    },
    {
      "cell_type": "code",
      "source": [
        "df['PERP_SEX'].value_counts().plot(kind='bar')\n",
        "#This is a graph by male"
      ],
      "metadata": {
        "colab": {
          "base_uri": "https://localhost:8080/",
          "height": 284
        },
        "id": "GGQg5ud8DtHJ",
        "outputId": "b111b632-96a8-496e-e600-44b3395db6e5"
      },
      "execution_count": null,
      "outputs": [
        {
          "output_type": "execute_result",
          "data": {
            "text/plain": [
              "<matplotlib.axes._subplots.AxesSubplot at 0x7f6952f82310>"
            ]
          },
          "metadata": {},
          "execution_count": 12
        },
        {
          "output_type": "display_data",
          "data": {
            "image/png": "[encoded data removed]",
            "text/plain": [
              "<Figure size 432x288 with 1 Axes>"
            ]
          },
          "metadata": {
            "needs_background": "light"
          }
        }
      ]
    },
    {
      "cell_type": "code",
      "source": [
        "df.groupby(['PERP_RACE', 'AGE_GROUP', 'PERP_SEX'])['ARREST_KEY'].count().sort_values(ascending=False)\n",
        "#This is a grouping by race, age, and sex"
      ],
      "metadata": {
        "colab": {
          "base_uri": "https://localhost:8080/"
        },
        "id": "lPuMI8T3zySC",
        "outputId": "f967bf88-7d36-4e8b-92c9-3a7bf5e08d44"
      },
      "execution_count": null,
      "outputs": [
        {
          "output_type": "execute_result",
          "data": {
            "text/plain": [
              "PERP_RACE                       AGE_GROUP  PERP_SEX\n",
              "BLACK                           25-44      M           26040\n",
              "WHITE HISPANIC                  25-44      M           14007\n",
              "BLACK                           18-24      M            9506\n",
              "                                45-64      M            9358\n",
              "WHITE                           25-44      M            5957\n",
              "                                                       ...  \n",
              "UNKNOWN                         45-64      F               6\n",
              "AMERICAN INDIAN/ALASKAN NATIVE  <18        M               5\n",
              "                                65+        M               3\n",
              "                                <18        F               1\n",
              "UNKNOWN                         65+        F               1\n",
              "Name: ARREST_KEY, Length: 68, dtype: int64"
            ]
          },
          "metadata": {},
          "execution_count": 7
        }
      ]
    },
    {
      "cell_type": "markdown",
      "source": [
        "When analyzing the data I was able to identify that Black individuals had the highest amount of arrests by race, individuals between the ages 25-44 had the highest had the highest amount of arrests and males had the highest amount of arrests. Although in order to find the highest arrests by race, age, and sex I had to group the data. When I completed the grouping of data, I was able to identify that the three highest perpetrating groups by race age and sex; Black Males between the ages of 25-44 had the most amount of arrests, White Hispanic males between the ages of 25-44 had the second most amount of arrests and Black Males between the ages of 18-24 had the third amount of arrests in total."
      ],
      "metadata": {
        "id": "QE1PFWvF8Yw0"
      }
    }
  ]
}