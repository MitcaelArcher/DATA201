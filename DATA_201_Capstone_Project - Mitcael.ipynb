{
  "nbformat": 4,
  "nbformat_minor": 0,
  "metadata": {
    "colab": {
      "name": "DATA 201 Capstone Project.ipynb",
      "provenance": []
    },
    "kernelspec": {
      "name": "python3",
      "display_name": "Python 3"
    },
    "language_info": {
      "name": "python"
    }
  },
  "cells": [
    {
      "cell_type": "code",
      "source": [
        "import pandas as pd\n",
        "import numpy as np\n",
        "import matplotlib.pyplot as plt\n",
        "import seaborn as sns"
      ],
      "metadata": {
        "id": "rJhtk1kLHeyy"
      },
      "execution_count": null,
      "outputs": []
    },
    {
      "cell_type": "code",
      "source": [
        "df=pd.read_csv(\"https://raw.githubusercontent.com/MitcaelArcher/DATA201/main/DATA%20201%20Capstone%20Project.csv\")\n",
        "df.drop(index=df.index[-1],axis=0,inplace=True)\n",
        "#This is reading the CSV and dropping the last row which was the totals"
      ],
      "metadata": {
        "colab": {
          "base_uri": "https://localhost:8080/"
        },
        "id": "7mDegRf9HXFM",
        "outputId": "6d63036b-afac-446b-d106-615448448521"
      },
      "execution_count": null,
      "outputs": [
        {
          "output_type": "stream",
          "name": "stderr",
          "text": [
            "/usr/local/lib/python3.7/dist-packages/IPython/core/interactiveshell.py:2718: DtypeWarning: Columns (0) have mixed types.Specify dtype option on import or set low_memory=False.\n",
            "  interactivity=interactivity, compiler=compiler, result=result)\n"
          ]
        }
      ]
    },
    {
      "cell_type": "code",
      "source": [
        "df\n",
        "#This is looking at all columns - the first 5 and last 5 rows"
      ],
      "metadata": {
        "colab": {
          "base_uri": "https://localhost:8080/",
          "height": 658
        },
        "id": "2I0DexVjHgrK",
        "outputId": "0ef48ff7-7e0d-44b4-9fd2-e5b4780a4c27"
      },
      "execution_count": null,
      "outputs": [
        {
          "output_type": "execute_result",
          "data": {
            "text/html": [
              "\n",
              "  <div id=\"df-27a66fb8-d9c1-40d9-9976-bdc835eea3d4\">\n",
              "    <div class=\"colab-df-container\">\n",
              "      <div>\n",
              "<style scoped>\n",
              "    .dataframe tbody tr th:only-of-type {\n",
              "        vertical-align: middle;\n",
              "    }\n",
              "\n",
              "    .dataframe tbody tr th {\n",
              "        vertical-align: top;\n",
              "    }\n",
              "\n",
              "    .dataframe thead th {\n",
              "        text-align: right;\n",
              "    }\n",
              "</style>\n",
              "<table border=\"1\" class=\"dataframe\">\n",
              "  <thead>\n",
              "    <tr style=\"text-align: right;\">\n",
              "      <th></th>\n",
              "      <th>STORE</th>\n",
              "      <th>STORE NAME</th>\n",
              "      <th>INTERNAL_PO</th>\n",
              "      <th>PO</th>\n",
              "      <th>ARTICLE</th>\n",
              "      <th>DESCRIPTION</th>\n",
              "      <th>Sum of RETAIL</th>\n",
              "      <th>Sum of QTY_ORDERED</th>\n",
              "      <th>Sum of EXT_RETAIL_ORDERED</th>\n",
              "      <th>Sum of QTY_RECEIVED</th>\n",
              "      <th>Sum of EXT_RETAIL_RECEIVED</th>\n",
              "      <th>Sum of QTY_BALANCE</th>\n",
              "      <th>Sum of EXT_RETAIL_BALANCE</th>\n",
              "    </tr>\n",
              "  </thead>\n",
              "  <tbody>\n",
              "    <tr>\n",
              "      <th>0</th>\n",
              "      <td>334039</td>\n",
              "      <td>0039-LOS ANGELES</td>\n",
              "      <td>6000149427_1</td>\n",
              "      <td>16163.0</td>\n",
              "      <td>762185794.0</td>\n",
              "      <td>MARINE    /SIZE 34 VERY BIS MULTISTRASS</td>\n",
              "      <td>448</td>\n",
              "      <td>1</td>\n",
              "      <td>448</td>\n",
              "      <td>1</td>\n",
              "      <td>448</td>\n",
              "      <td>0</td>\n",
              "      <td>0</td>\n",
              "    </tr>\n",
              "    <tr>\n",
              "      <th>1</th>\n",
              "      <td>334039</td>\n",
              "      <td>0039-LOS ANGELES</td>\n",
              "      <td>6000149427_1</td>\n",
              "      <td>16163.0</td>\n",
              "      <td>762190733.0</td>\n",
              "      <td>NOIR      /L STOCKHOLM COTON FLAMME SPI</td>\n",
              "      <td>148</td>\n",
              "      <td>2</td>\n",
              "      <td>296</td>\n",
              "      <td>2</td>\n",
              "      <td>296</td>\n",
              "      <td>0</td>\n",
              "      <td>0</td>\n",
              "    </tr>\n",
              "    <tr>\n",
              "      <th>2</th>\n",
              "      <td>334039</td>\n",
              "      <td>0039-LOS ANGELES</td>\n",
              "      <td>6000149427_1</td>\n",
              "      <td>16163.0</td>\n",
              "      <td>762199106.0</td>\n",
              "      <td>NOIR      /UNIQUE ROCK GRAINED LEATHER</td>\n",
              "      <td>298</td>\n",
              "      <td>1</td>\n",
              "      <td>298</td>\n",
              "      <td>1</td>\n",
              "      <td>298</td>\n",
              "      <td>0</td>\n",
              "      <td>0</td>\n",
              "    </tr>\n",
              "    <tr>\n",
              "      <th>3</th>\n",
              "      <td>334039</td>\n",
              "      <td>0039-LOS ANGELES</td>\n",
              "      <td>6000149427_1</td>\n",
              "      <td>16163.0</td>\n",
              "      <td>762207222.0</td>\n",
              "      <td>NOIR      /UNIQUE ROCK NANO SAVAGE</td>\n",
              "      <td>248</td>\n",
              "      <td>1</td>\n",
              "      <td>248</td>\n",
              "      <td>1</td>\n",
              "      <td>248</td>\n",
              "      <td>0</td>\n",
              "      <td>0</td>\n",
              "    </tr>\n",
              "    <tr>\n",
              "      <th>4</th>\n",
              "      <td>334039</td>\n",
              "      <td>0039-LOS ANGELES</td>\n",
              "      <td>6000149427_1</td>\n",
              "      <td>16163.0</td>\n",
              "      <td>762216099.0</td>\n",
              "      <td>NOIR      /XS MARKUS WS STARS</td>\n",
              "      <td>468</td>\n",
              "      <td>1</td>\n",
              "      <td>468</td>\n",
              "      <td>1</td>\n",
              "      <td>468</td>\n",
              "      <td>0</td>\n",
              "      <td>0</td>\n",
              "    </tr>\n",
              "    <tr>\n",
              "      <th>...</th>\n",
              "      <td>...</td>\n",
              "      <td>...</td>\n",
              "      <td>...</td>\n",
              "      <td>...</td>\n",
              "      <td>...</td>\n",
              "      <td>...</td>\n",
              "      <td>...</td>\n",
              "      <td>...</td>\n",
              "      <td>...</td>\n",
              "      <td>...</td>\n",
              "      <td>...</td>\n",
              "      <td>...</td>\n",
              "      <td>...</td>\n",
              "    </tr>\n",
              "    <tr>\n",
              "      <th>74591</th>\n",
              "      <td>334585</td>\n",
              "      <td>0585-COPLEY PLACE</td>\n",
              "      <td>6001243410_1</td>\n",
              "      <td>20158.0</td>\n",
              "      <td>762305529.0</td>\n",
              "      <td>NOIR      /W38 CARA HIGH SUEDE</td>\n",
              "      <td>798</td>\n",
              "      <td>2</td>\n",
              "      <td>1596</td>\n",
              "      <td>0</td>\n",
              "      <td>0</td>\n",
              "      <td>2</td>\n",
              "      <td>1596</td>\n",
              "    </tr>\n",
              "    <tr>\n",
              "      <th>74592</th>\n",
              "      <td>334585</td>\n",
              "      <td>0585-COPLEY PLACE</td>\n",
              "      <td>6001243410_1</td>\n",
              "      <td>20158.0</td>\n",
              "      <td>762305530.0</td>\n",
              "      <td>NOIR      /W39 CARA HIGH SUEDE</td>\n",
              "      <td>798</td>\n",
              "      <td>2</td>\n",
              "      <td>1596</td>\n",
              "      <td>0</td>\n",
              "      <td>0</td>\n",
              "      <td>2</td>\n",
              "      <td>1596</td>\n",
              "    </tr>\n",
              "    <tr>\n",
              "      <th>74593</th>\n",
              "      <td>334585</td>\n",
              "      <td>0585-COPLEY PLACE</td>\n",
              "      <td>6001243410_1</td>\n",
              "      <td>20158.0</td>\n",
              "      <td>762305531.0</td>\n",
              "      <td>NOIR      /W40 CARA HIGH SUEDE</td>\n",
              "      <td>798</td>\n",
              "      <td>1</td>\n",
              "      <td>798</td>\n",
              "      <td>0</td>\n",
              "      <td>0</td>\n",
              "      <td>1</td>\n",
              "      <td>798</td>\n",
              "    </tr>\n",
              "    <tr>\n",
              "      <th>74594</th>\n",
              "      <td>334585</td>\n",
              "      <td>0585-COPLEY PLACE</td>\n",
              "      <td>6001243410_1</td>\n",
              "      <td>20158.0</td>\n",
              "      <td>762305532.0</td>\n",
              "      <td>NOIR      /W41 CARA HIGH SUEDE</td>\n",
              "      <td>798</td>\n",
              "      <td>1</td>\n",
              "      <td>798</td>\n",
              "      <td>0</td>\n",
              "      <td>0</td>\n",
              "      <td>1</td>\n",
              "      <td>798</td>\n",
              "    </tr>\n",
              "    <tr>\n",
              "      <th>74595</th>\n",
              "      <td>334585</td>\n",
              "      <td>0585-COPLEY PLACE</td>\n",
              "      <td>6001243410_1</td>\n",
              "      <td>20158.0</td>\n",
              "      <td>762305533.0</td>\n",
              "      <td>FLASH     /UNIQUE ROCK XL MAT SCALE</td>\n",
              "      <td>398</td>\n",
              "      <td>3</td>\n",
              "      <td>1194</td>\n",
              "      <td>0</td>\n",
              "      <td>0</td>\n",
              "      <td>3</td>\n",
              "      <td>1194</td>\n",
              "    </tr>\n",
              "  </tbody>\n",
              "</table>\n",
              "<p>74596 rows × 13 columns</p>\n",
              "</div>\n",
              "      <button class=\"colab-df-convert\" onclick=\"convertToInteractive('df-27a66fb8-d9c1-40d9-9976-bdc835eea3d4')\"\n",
              "              title=\"Convert this dataframe to an interactive table.\"\n",
              "              style=\"display:none;\">\n",
              "        \n",
              "  <svg xmlns=\"http://www.w3.org/2000/svg\" height=\"24px\"viewBox=\"0 0 24 24\"\n",
              "       width=\"24px\">\n",
              "    <path d=\"M0 0h24v24H0V0z\" fill=\"none\"/>\n",
              "    <path d=\"M18.56 5.44l.94 2.06.94-2.06 2.06-.94-2.06-.94-.94-2.06-.94 2.06-2.06.94zm-11 1L8.5 8.5l.94-2.06 2.06-.94-2.06-.94L8.5 2.5l-.94 2.06-2.06.94zm10 10l.94 2.06.94-2.06 2.06-.94-2.06-.94-.94-2.06-.94 2.06-2.06.94z\"/><path d=\"M17.41 7.96l-1.37-1.37c-.4-.4-.92-.59-1.43-.59-.52 0-1.04.2-1.43.59L10.3 9.45l-7.72 7.72c-.78.78-.78 2.05 0 2.83L4 21.41c.39.39.9.59 1.41.59.51 0 1.02-.2 1.41-.59l7.78-7.78 2.81-2.81c.8-.78.8-2.07 0-2.86zM5.41 20L4 18.59l7.72-7.72 1.47 1.35L5.41 20z\"/>\n",
              "  </svg>\n",
              "      </button>\n",
              "      \n",
              "  <style>\n",
              "    .colab-df-container {\n",
              "      display:flex;\n",
              "      flex-wrap:wrap;\n",
              "      gap: 12px;\n",
              "    }\n",
              "\n",
              "    .colab-df-convert {\n",
              "      background-color: #E8F0FE;\n",
              "      border: none;\n",
              "      border-radius: 50%;\n",
              "      cursor: pointer;\n",
              "      display: none;\n",
              "      fill: #1967D2;\n",
              "      height: 32px;\n",
              "      padding: 0 0 0 0;\n",
              "      width: 32px;\n",
              "    }\n",
              "\n",
              "    .colab-df-convert:hover {\n",
              "      background-color: #E2EBFA;\n",
              "      box-shadow: 0px 1px 2px rgba(60, 64, 67, 0.3), 0px 1px 3px 1px rgba(60, 64, 67, 0.15);\n",
              "      fill: #174EA6;\n",
              "    }\n",
              "\n",
              "    [theme=dark] .colab-df-convert {\n",
              "      background-color: #3B4455;\n",
              "      fill: #D2E3FC;\n",
              "    }\n",
              "\n",
              "    [theme=dark] .colab-df-convert:hover {\n",
              "      background-color: #434B5C;\n",
              "      box-shadow: 0px 1px 3px 1px rgba(0, 0, 0, 0.15);\n",
              "      filter: drop-shadow(0px 1px 2px rgba(0, 0, 0, 0.3));\n",
              "      fill: #FFFFFF;\n",
              "    }\n",
              "  </style>\n",
              "\n",
              "      <script>\n",
              "        const buttonEl =\n",
              "          document.querySelector('#df-27a66fb8-d9c1-40d9-9976-bdc835eea3d4 button.colab-df-convert');\n",
              "        buttonEl.style.display =\n",
              "          google.colab.kernel.accessAllowed ? 'block' : 'none';\n",
              "\n",
              "        async function convertToInteractive(key) {\n",
              "          const element = document.querySelector('#df-27a66fb8-d9c1-40d9-9976-bdc835eea3d4');\n",
              "          const dataTable =\n",
              "            await google.colab.kernel.invokeFunction('convertToInteractive',\n",
              "                                                     [key], {});\n",
              "          if (!dataTable) return;\n",
              "\n",
              "          const docLinkHtml = 'Like what you see? Visit the ' +\n",
              "            '<a target=\"_blank\" href=https://colab.research.google.com/notebooks/data_table.ipynb>data table notebook</a>'\n",
              "            + ' to learn more about interactive tables.';\n",
              "          element.innerHTML = '';\n",
              "          dataTable['output_type'] = 'display_data';\n",
              "          await google.colab.output.renderOutput(dataTable, element);\n",
              "          const docLink = document.createElement('div');\n",
              "          docLink.innerHTML = docLinkHtml;\n",
              "          element.appendChild(docLink);\n",
              "        }\n",
              "      </script>\n",
              "    </div>\n",
              "  </div>\n",
              "  "
            ],
            "text/plain": [
              "        STORE         STORE NAME  ... Sum of QTY_BALANCE  Sum of EXT_RETAIL_BALANCE\n",
              "0      334039   0039-LOS ANGELES  ...                  0                          0\n",
              "1      334039   0039-LOS ANGELES  ...                  0                          0\n",
              "2      334039   0039-LOS ANGELES  ...                  0                          0\n",
              "3      334039   0039-LOS ANGELES  ...                  0                          0\n",
              "4      334039   0039-LOS ANGELES  ...                  0                          0\n",
              "...       ...                ...  ...                ...                        ...\n",
              "74591  334585  0585-COPLEY PLACE  ...                  2                       1596\n",
              "74592  334585  0585-COPLEY PLACE  ...                  2                       1596\n",
              "74593  334585  0585-COPLEY PLACE  ...                  1                        798\n",
              "74594  334585  0585-COPLEY PLACE  ...                  1                        798\n",
              "74595  334585  0585-COPLEY PLACE  ...                  3                       1194\n",
              "\n",
              "[74596 rows x 13 columns]"
            ]
          },
          "metadata": {},
          "execution_count": 3
        }
      ]
    },
    {
      "cell_type": "markdown",
      "source": [
        "**Question**: \n",
        "How many POs have been shipped from the warehouse to stores and what is the total amount of POs and units that have been received?\n",
        "\n",
        "How many POs are left to be received and what are the top 5 stores with the most POs left open? \n",
        "\n",
        "(An open PO is defined as 0 units being received and a closed PO must have at least 1 unit received)"
      ],
      "metadata": {
        "id": "GmVWhJ7AIp4v"
      }
    },
    {
      "cell_type": "code",
      "source": [
        "df.shape\n",
        "#This is showing the total rows and columns of the data"
      ],
      "metadata": {
        "colab": {
          "base_uri": "https://localhost:8080/"
        },
        "id": "asAbSCsaJpIV",
        "outputId": "47a61bf2-5517-43bd-ee81-098fbe9cb25b"
      },
      "execution_count": null,
      "outputs": [
        {
          "output_type": "execute_result",
          "data": {
            "text/plain": [
              "(74596, 13)"
            ]
          },
          "metadata": {},
          "execution_count": 4
        }
      ]
    },
    {
      "cell_type": "code",
      "source": [
        "df.columns\n",
        "#Displaying the column names"
      ],
      "metadata": {
        "colab": {
          "base_uri": "https://localhost:8080/"
        },
        "id": "AGIFOJIjKpFe",
        "outputId": "5d4cd839-cf01-424e-b957-ca2704d103d4"
      },
      "execution_count": null,
      "outputs": [
        {
          "output_type": "execute_result",
          "data": {
            "text/plain": [
              "Index(['STORE', 'STORE NAME', 'INTERNAL_PO', 'PO', 'ARTICLE', 'DESCRIPTION',\n",
              "       'Sum of RETAIL', 'Sum of QTY_ORDERED', 'Sum of EXT_RETAIL_ORDERED',\n",
              "       'Sum of QTY_RECEIVED', 'Sum of EXT_RETAIL_RECEIVED',\n",
              "       'Sum of QTY_BALANCE', 'Sum of EXT_RETAIL_BALANCE'],\n",
              "      dtype='object')"
            ]
          },
          "metadata": {},
          "execution_count": 5
        }
      ]
    },
    {
      "cell_type": "code",
      "source": [
        "df = df.rename(columns = {'Sum of RETAIL':'Retail $', 'Sum of QTY_ORDERED':'QTY Ordered', 'Sum of EXT_RETAIL_ORDERED':'Retail $ Ordered', 'Sum of QTY_RECEIVED':'QTY Received', 'Sum of EXT_RETAIL_RECEIVED':'Retail $ Received','Sum of QTY_BALANCE':'QTY Balance', 'Sum of EXT_RETAIL_BALANCE':'Retail $ Balance'}, inplace = False)\n",
        "#This is changing the name of some columns"
      ],
      "metadata": {
        "id": "gEtKaVe7PmvG"
      },
      "execution_count": null,
      "outputs": []
    },
    {
      "cell_type": "code",
      "source": [
        "df.columns\n",
        "#Displaying the column names after changing the names"
      ],
      "metadata": {
        "colab": {
          "base_uri": "https://localhost:8080/"
        },
        "id": "GOf4FJXZUf3o",
        "outputId": "29a7e45f-1108-42c1-8696-a8e41a15e979"
      },
      "execution_count": null,
      "outputs": [
        {
          "output_type": "execute_result",
          "data": {
            "text/plain": [
              "Index(['STORE', 'STORE NAME', 'INTERNAL_PO', 'PO', 'ARTICLE', 'DESCRIPTION',\n",
              "       'Retail $', 'QTY Ordered', 'Retail $ Ordered', 'QTY Received',\n",
              "       'Retail $ Received', 'QTY Balance', 'Retail $ Balance'],\n",
              "      dtype='object')"
            ]
          },
          "metadata": {},
          "execution_count": 7
        }
      ]
    },
    {
      "cell_type": "code",
      "source": [
        "df.dtypes\n",
        "#This is showing me the data types of each column"
      ],
      "metadata": {
        "colab": {
          "base_uri": "https://localhost:8080/"
        },
        "id": "gJ771eYQTmQb",
        "outputId": "e65d3cd8-f077-49b3-8b7f-96d1c7c87342"
      },
      "execution_count": null,
      "outputs": [
        {
          "output_type": "execute_result",
          "data": {
            "text/plain": [
              "STORE                 object\n",
              "STORE NAME            object\n",
              "INTERNAL_PO           object\n",
              "PO                   float64\n",
              "ARTICLE              float64\n",
              "DESCRIPTION           object\n",
              "Retail $               int64\n",
              "QTY Ordered            int64\n",
              "Retail $ Ordered       int64\n",
              "QTY Received           int64\n",
              "Retail $ Received      int64\n",
              "QTY Balance            int64\n",
              "Retail $ Balance       int64\n",
              "dtype: object"
            ]
          },
          "metadata": {},
          "execution_count": 8
        }
      ]
    },
    {
      "cell_type": "code",
      "source": [
        "df = df.astype({\"INTERNAL_PO\": 'str', \"PO\": 'str',\"ARTICLE\": 'str'})\n",
        "#This is changing the data type from Float to string"
      ],
      "metadata": {
        "id": "kiZqEk_BU3Lb"
      },
      "execution_count": null,
      "outputs": []
    },
    {
      "cell_type": "code",
      "source": [
        "df.dtypes\n",
        "#This is showing me the data types of each column after changing some"
      ],
      "metadata": {
        "colab": {
          "base_uri": "https://localhost:8080/"
        },
        "id": "UfpznZYGVz-3",
        "outputId": "c785f860-4b9c-477f-d43a-dc01cd07394a"
      },
      "execution_count": null,
      "outputs": [
        {
          "output_type": "execute_result",
          "data": {
            "text/plain": [
              "STORE                object\n",
              "STORE NAME           object\n",
              "INTERNAL_PO          object\n",
              "PO                   object\n",
              "ARTICLE              object\n",
              "DESCRIPTION          object\n",
              "Retail $              int64\n",
              "QTY Ordered           int64\n",
              "Retail $ Ordered      int64\n",
              "QTY Received          int64\n",
              "Retail $ Received     int64\n",
              "QTY Balance           int64\n",
              "Retail $ Balance      int64\n",
              "dtype: object"
            ]
          },
          "metadata": {},
          "execution_count": 10
        }
      ]
    },
    {
      "cell_type": "code",
      "source": [
        "df['PO'] = df['PO'].astype(str).replace('\\.0', '', regex=True)\n",
        "df['ARTICLE'] = df['ARTICLE'].astype(str).replace('\\.0', '', regex=True)\n",
        "#This is removing the decimal from the string"
      ],
      "metadata": {
        "id": "yXenNp1bX0bM"
      },
      "execution_count": null,
      "outputs": []
    },
    {
      "cell_type": "code",
      "source": [
        "df\n",
        "#This is looking at all columns - the first 5 and last 5 rows again"
      ],
      "metadata": {
        "colab": {
          "base_uri": "https://localhost:8080/",
          "height": 423
        },
        "id": "ewdwGwXlWHg4",
        "outputId": "9c23d016-1a40-4109-e3a6-5279a7638814"
      },
      "execution_count": null,
      "outputs": [
        {
          "output_type": "execute_result",
          "data": {
            "text/html": [
              "\n",
              "  <div id=\"df-f408b7e6-d32c-4be4-b83d-56a98cde8228\">\n",
              "    <div class=\"colab-df-container\">\n",
              "      <div>\n",
              "<style scoped>\n",
              "    .dataframe tbody tr th:only-of-type {\n",
              "        vertical-align: middle;\n",
              "    }\n",
              "\n",
              "    .dataframe tbody tr th {\n",
              "        vertical-align: top;\n",
              "    }\n",
              "\n",
              "    .dataframe thead th {\n",
              "        text-align: right;\n",
              "    }\n",
              "</style>\n",
              "<table border=\"1\" class=\"dataframe\">\n",
              "  <thead>\n",
              "    <tr style=\"text-align: right;\">\n",
              "      <th></th>\n",
              "      <th>STORE</th>\n",
              "      <th>STORE NAME</th>\n",
              "      <th>INTERNAL_PO</th>\n",
              "      <th>PO</th>\n",
              "      <th>ARTICLE</th>\n",
              "      <th>DESCRIPTION</th>\n",
              "      <th>Retail $</th>\n",
              "      <th>QTY Ordered</th>\n",
              "      <th>Retail $ Ordered</th>\n",
              "      <th>QTY Received</th>\n",
              "      <th>Retail $ Received</th>\n",
              "      <th>QTY Balance</th>\n",
              "      <th>Retail $ Balance</th>\n",
              "    </tr>\n",
              "  </thead>\n",
              "  <tbody>\n",
              "    <tr>\n",
              "      <th>0</th>\n",
              "      <td>334039</td>\n",
              "      <td>0039-LOS ANGELES</td>\n",
              "      <td>6000149427_1</td>\n",
              "      <td>16163</td>\n",
              "      <td>762185794</td>\n",
              "      <td>MARINE    /SIZE 34 VERY BIS MULTISTRASS</td>\n",
              "      <td>448</td>\n",
              "      <td>1</td>\n",
              "      <td>448</td>\n",
              "      <td>1</td>\n",
              "      <td>448</td>\n",
              "      <td>0</td>\n",
              "      <td>0</td>\n",
              "    </tr>\n",
              "    <tr>\n",
              "      <th>1</th>\n",
              "      <td>334039</td>\n",
              "      <td>0039-LOS ANGELES</td>\n",
              "      <td>6000149427_1</td>\n",
              "      <td>16163</td>\n",
              "      <td>762190733</td>\n",
              "      <td>NOIR      /L STOCKHOLM COTON FLAMME SPI</td>\n",
              "      <td>148</td>\n",
              "      <td>2</td>\n",
              "      <td>296</td>\n",
              "      <td>2</td>\n",
              "      <td>296</td>\n",
              "      <td>0</td>\n",
              "      <td>0</td>\n",
              "    </tr>\n",
              "    <tr>\n",
              "      <th>2</th>\n",
              "      <td>334039</td>\n",
              "      <td>0039-LOS ANGELES</td>\n",
              "      <td>6000149427_1</td>\n",
              "      <td>16163</td>\n",
              "      <td>762199106</td>\n",
              "      <td>NOIR      /UNIQUE ROCK GRAINED LEATHER</td>\n",
              "      <td>298</td>\n",
              "      <td>1</td>\n",
              "      <td>298</td>\n",
              "      <td>1</td>\n",
              "      <td>298</td>\n",
              "      <td>0</td>\n",
              "      <td>0</td>\n",
              "    </tr>\n",
              "    <tr>\n",
              "      <th>3</th>\n",
              "      <td>334039</td>\n",
              "      <td>0039-LOS ANGELES</td>\n",
              "      <td>6000149427_1</td>\n",
              "      <td>16163</td>\n",
              "      <td>762207222</td>\n",
              "      <td>NOIR      /UNIQUE ROCK NANO SAVAGE</td>\n",
              "      <td>248</td>\n",
              "      <td>1</td>\n",
              "      <td>248</td>\n",
              "      <td>1</td>\n",
              "      <td>248</td>\n",
              "      <td>0</td>\n",
              "      <td>0</td>\n",
              "    </tr>\n",
              "    <tr>\n",
              "      <th>4</th>\n",
              "      <td>334039</td>\n",
              "      <td>0039-LOS ANGELES</td>\n",
              "      <td>6000149427_1</td>\n",
              "      <td>16163</td>\n",
              "      <td>762216099</td>\n",
              "      <td>NOIR      /XS MARKUS WS STARS</td>\n",
              "      <td>468</td>\n",
              "      <td>1</td>\n",
              "      <td>468</td>\n",
              "      <td>1</td>\n",
              "      <td>468</td>\n",
              "      <td>0</td>\n",
              "      <td>0</td>\n",
              "    </tr>\n",
              "    <tr>\n",
              "      <th>...</th>\n",
              "      <td>...</td>\n",
              "      <td>...</td>\n",
              "      <td>...</td>\n",
              "      <td>...</td>\n",
              "      <td>...</td>\n",
              "      <td>...</td>\n",
              "      <td>...</td>\n",
              "      <td>...</td>\n",
              "      <td>...</td>\n",
              "      <td>...</td>\n",
              "      <td>...</td>\n",
              "      <td>...</td>\n",
              "      <td>...</td>\n",
              "    </tr>\n",
              "    <tr>\n",
              "      <th>74591</th>\n",
              "      <td>334585</td>\n",
              "      <td>0585-COPLEY PLACE</td>\n",
              "      <td>6001243410_1</td>\n",
              "      <td>20158</td>\n",
              "      <td>762305529</td>\n",
              "      <td>NOIR      /W38 CARA HIGH SUEDE</td>\n",
              "      <td>798</td>\n",
              "      <td>2</td>\n",
              "      <td>1596</td>\n",
              "      <td>0</td>\n",
              "      <td>0</td>\n",
              "      <td>2</td>\n",
              "      <td>1596</td>\n",
              "    </tr>\n",
              "    <tr>\n",
              "      <th>74592</th>\n",
              "      <td>334585</td>\n",
              "      <td>0585-COPLEY PLACE</td>\n",
              "      <td>6001243410_1</td>\n",
              "      <td>20158</td>\n",
              "      <td>762305530</td>\n",
              "      <td>NOIR      /W39 CARA HIGH SUEDE</td>\n",
              "      <td>798</td>\n",
              "      <td>2</td>\n",
              "      <td>1596</td>\n",
              "      <td>0</td>\n",
              "      <td>0</td>\n",
              "      <td>2</td>\n",
              "      <td>1596</td>\n",
              "    </tr>\n",
              "    <tr>\n",
              "      <th>74593</th>\n",
              "      <td>334585</td>\n",
              "      <td>0585-COPLEY PLACE</td>\n",
              "      <td>6001243410_1</td>\n",
              "      <td>20158</td>\n",
              "      <td>762305531</td>\n",
              "      <td>NOIR      /W40 CARA HIGH SUEDE</td>\n",
              "      <td>798</td>\n",
              "      <td>1</td>\n",
              "      <td>798</td>\n",
              "      <td>0</td>\n",
              "      <td>0</td>\n",
              "      <td>1</td>\n",
              "      <td>798</td>\n",
              "    </tr>\n",
              "    <tr>\n",
              "      <th>74594</th>\n",
              "      <td>334585</td>\n",
              "      <td>0585-COPLEY PLACE</td>\n",
              "      <td>6001243410_1</td>\n",
              "      <td>20158</td>\n",
              "      <td>762305532</td>\n",
              "      <td>NOIR      /W41 CARA HIGH SUEDE</td>\n",
              "      <td>798</td>\n",
              "      <td>1</td>\n",
              "      <td>798</td>\n",
              "      <td>0</td>\n",
              "      <td>0</td>\n",
              "      <td>1</td>\n",
              "      <td>798</td>\n",
              "    </tr>\n",
              "    <tr>\n",
              "      <th>74595</th>\n",
              "      <td>334585</td>\n",
              "      <td>0585-COPLEY PLACE</td>\n",
              "      <td>6001243410_1</td>\n",
              "      <td>20158</td>\n",
              "      <td>762305533</td>\n",
              "      <td>FLASH     /UNIQUE ROCK XL MAT SCALE</td>\n",
              "      <td>398</td>\n",
              "      <td>3</td>\n",
              "      <td>1194</td>\n",
              "      <td>0</td>\n",
              "      <td>0</td>\n",
              "      <td>3</td>\n",
              "      <td>1194</td>\n",
              "    </tr>\n",
              "  </tbody>\n",
              "</table>\n",
              "<p>74596 rows × 13 columns</p>\n",
              "</div>\n",
              "      <button class=\"colab-df-convert\" onclick=\"convertToInteractive('df-f408b7e6-d32c-4be4-b83d-56a98cde8228')\"\n",
              "              title=\"Convert this dataframe to an interactive table.\"\n",
              "              style=\"display:none;\">\n",
              "        \n",
              "  <svg xmlns=\"http://www.w3.org/2000/svg\" height=\"24px\"viewBox=\"0 0 24 24\"\n",
              "       width=\"24px\">\n",
              "    <path d=\"M0 0h24v24H0V0z\" fill=\"none\"/>\n",
              "    <path d=\"M18.56 5.44l.94 2.06.94-2.06 2.06-.94-2.06-.94-.94-2.06-.94 2.06-2.06.94zm-11 1L8.5 8.5l.94-2.06 2.06-.94-2.06-.94L8.5 2.5l-.94 2.06-2.06.94zm10 10l.94 2.06.94-2.06 2.06-.94-2.06-.94-.94-2.06-.94 2.06-2.06.94z\"/><path d=\"M17.41 7.96l-1.37-1.37c-.4-.4-.92-.59-1.43-.59-.52 0-1.04.2-1.43.59L10.3 9.45l-7.72 7.72c-.78.78-.78 2.05 0 2.83L4 21.41c.39.39.9.59 1.41.59.51 0 1.02-.2 1.41-.59l7.78-7.78 2.81-2.81c.8-.78.8-2.07 0-2.86zM5.41 20L4 18.59l7.72-7.72 1.47 1.35L5.41 20z\"/>\n",
              "  </svg>\n",
              "      </button>\n",
              "      \n",
              "  <style>\n",
              "    .colab-df-container {\n",
              "      display:flex;\n",
              "      flex-wrap:wrap;\n",
              "      gap: 12px;\n",
              "    }\n",
              "\n",
              "    .colab-df-convert {\n",
              "      background-color: #E8F0FE;\n",
              "      border: none;\n",
              "      border-radius: 50%;\n",
              "      cursor: pointer;\n",
              "      display: none;\n",
              "      fill: #1967D2;\n",
              "      height: 32px;\n",
              "      padding: 0 0 0 0;\n",
              "      width: 32px;\n",
              "    }\n",
              "\n",
              "    .colab-df-convert:hover {\n",
              "      background-color: #E2EBFA;\n",
              "      box-shadow: 0px 1px 2px rgba(60, 64, 67, 0.3), 0px 1px 3px 1px rgba(60, 64, 67, 0.15);\n",
              "      fill: #174EA6;\n",
              "    }\n",
              "\n",
              "    [theme=dark] .colab-df-convert {\n",
              "      background-color: #3B4455;\n",
              "      fill: #D2E3FC;\n",
              "    }\n",
              "\n",
              "    [theme=dark] .colab-df-convert:hover {\n",
              "      background-color: #434B5C;\n",
              "      box-shadow: 0px 1px 3px 1px rgba(0, 0, 0, 0.15);\n",
              "      filter: drop-shadow(0px 1px 2px rgba(0, 0, 0, 0.3));\n",
              "      fill: #FFFFFF;\n",
              "    }\n",
              "  </style>\n",
              "\n",
              "      <script>\n",
              "        const buttonEl =\n",
              "          document.querySelector('#df-f408b7e6-d32c-4be4-b83d-56a98cde8228 button.colab-df-convert');\n",
              "        buttonEl.style.display =\n",
              "          google.colab.kernel.accessAllowed ? 'block' : 'none';\n",
              "\n",
              "        async function convertToInteractive(key) {\n",
              "          const element = document.querySelector('#df-f408b7e6-d32c-4be4-b83d-56a98cde8228');\n",
              "          const dataTable =\n",
              "            await google.colab.kernel.invokeFunction('convertToInteractive',\n",
              "                                                     [key], {});\n",
              "          if (!dataTable) return;\n",
              "\n",
              "          const docLinkHtml = 'Like what you see? Visit the ' +\n",
              "            '<a target=\"_blank\" href=https://colab.research.google.com/notebooks/data_table.ipynb>data table notebook</a>'\n",
              "            + ' to learn more about interactive tables.';\n",
              "          element.innerHTML = '';\n",
              "          dataTable['output_type'] = 'display_data';\n",
              "          await google.colab.output.renderOutput(dataTable, element);\n",
              "          const docLink = document.createElement('div');\n",
              "          docLink.innerHTML = docLinkHtml;\n",
              "          element.appendChild(docLink);\n",
              "        }\n",
              "      </script>\n",
              "    </div>\n",
              "  </div>\n",
              "  "
            ],
            "text/plain": [
              "        STORE         STORE NAME  ... QTY Balance Retail $ Balance\n",
              "0      334039   0039-LOS ANGELES  ...           0                0\n",
              "1      334039   0039-LOS ANGELES  ...           0                0\n",
              "2      334039   0039-LOS ANGELES  ...           0                0\n",
              "3      334039   0039-LOS ANGELES  ...           0                0\n",
              "4      334039   0039-LOS ANGELES  ...           0                0\n",
              "...       ...                ...  ...         ...              ...\n",
              "74591  334585  0585-COPLEY PLACE  ...           2             1596\n",
              "74592  334585  0585-COPLEY PLACE  ...           2             1596\n",
              "74593  334585  0585-COPLEY PLACE  ...           1              798\n",
              "74594  334585  0585-COPLEY PLACE  ...           1              798\n",
              "74595  334585  0585-COPLEY PLACE  ...           3             1194\n",
              "\n",
              "[74596 rows x 13 columns]"
            ]
          },
          "metadata": {},
          "execution_count": 12
        }
      ]
    },
    {
      "cell_type": "code",
      "source": [
        "df2 = df.groupby(['STORE NAME','INTERNAL_PO', 'PO'])['QTY Received'].sum()\n",
        "#This is grouping the data based on the Store Name, PO #'s and Sum of Qty Received"
      ],
      "metadata": {
        "id": "aQMxwbdVfQDO"
      },
      "execution_count": null,
      "outputs": []
    },
    {
      "cell_type": "code",
      "source": [
        "df2\n",
        "#This is showing the sum of the quantity received of each PO"
      ],
      "metadata": {
        "colab": {
          "base_uri": "https://localhost:8080/"
        },
        "id": "Y9DNsdgmgMjZ",
        "outputId": "035a43fb-5240-440c-9ef7-d31789c92a82"
      },
      "execution_count": null,
      "outputs": [
        {
          "output_type": "execute_result",
          "data": {
            "text/plain": [
              "STORE NAME         INTERNAL_PO   PO   \n",
              "0039-LOS ANGELES   6000149427_1  16163    139\n",
              "                   6000159816_1  16278      4\n",
              "                   6000161524_1  16193    102\n",
              "                   6000167865_1  16308      3\n",
              "                   6000180207_1  16340     46\n",
              "                                         ... \n",
              "0585-COPLEY PLACE  6001093484_1  19778     55\n",
              "                   6001113551_1  19785    148\n",
              "                   6001196802_1  20076      0\n",
              "                   6001243174_1  20148      0\n",
              "                   6001243410_1  20158      0\n",
              "Name: QTY Received, Length: 3884, dtype: int64"
            ]
          },
          "metadata": {},
          "execution_count": 24
        }
      ]
    },
    {
      "cell_type": "code",
      "source": [
        "TotalPOs=len(df.INTERNAL_PO.unique())\n",
        "print(TotalPOs,\"Total POs\")\n",
        "#This is showing the total amount of POs"
      ],
      "metadata": {
        "colab": {
          "base_uri": "https://localhost:8080/"
        },
        "id": "NmVL1BXABKfq",
        "outputId": "b4c90da6-1812-49a0-a17f-d62aff0d82e6"
      },
      "execution_count": null,
      "outputs": [
        {
          "output_type": "stream",
          "name": "stdout",
          "text": [
            "3884 Total POs\n"
          ]
        }
      ]
    },
    {
      "cell_type": "code",
      "source": [
        "SumOfOpen = df2.sum(axis=0)\n",
        "print(SumOfOpen, \"Units Received\")\n",
        "#This is showing the amount of units Received"
      ],
      "metadata": {
        "colab": {
          "base_uri": "https://localhost:8080/"
        },
        "id": "Xs_Zg0Ur8-4r",
        "outputId": "75f48824-a8eb-4b0d-f414-1f73ec083558"
      },
      "execution_count": null,
      "outputs": [
        {
          "output_type": "stream",
          "name": "stdout",
          "text": [
            "113513 Units Received\n"
          ]
        }
      ]
    },
    {
      "cell_type": "code",
      "source": [
        "df3 = df2[df2<=0]\n",
        "#This is filetering all POs that are showing atleast 1 unit received"
      ],
      "metadata": {
        "id": "ZiAn0k9mmJIc"
      },
      "execution_count": null,
      "outputs": []
    },
    {
      "cell_type": "code",
      "source": [
        "df3\n",
        "#This is showing me the dataframe with only POs with 0 units received"
      ],
      "metadata": {
        "colab": {
          "base_uri": "https://localhost:8080/"
        },
        "id": "9bqz9Uesml4t",
        "outputId": "09800f08-2241-4c7f-b109-076e59585673"
      },
      "execution_count": null,
      "outputs": [
        {
          "output_type": "execute_result",
          "data": {
            "text/plain": [
              "STORE NAME           INTERNAL_PO   PO   \n",
              "0039-LOS ANGELES     6001113536_1  19986    0\n",
              "                     6001121719_1  19990    0\n",
              "                     6001142416_1  20009    0\n",
              "                     6001156714_1  20048    0\n",
              "                     6001207072_1  20085    0\n",
              "                                           ..\n",
              "0581-ORLANDO OUTLET  6001227205_1  20131    0\n",
              "0585-COPLEY PLACE    6001068557_1  19768    0\n",
              "                     6001196802_1  20076    0\n",
              "                     6001243174_1  20148    0\n",
              "                     6001243410_1  20158    0\n",
              "Name: QTY Received, Length: 257, dtype: int64"
            ]
          },
          "metadata": {},
          "execution_count": 18
        }
      ]
    },
    {
      "cell_type": "code",
      "source": [
        "df4 = df3.groupby(['STORE NAME']).count().sort_values(ascending=False)\n",
        "#This is creating a new dataframe to show the store names and amount of POs that they have \"Open\""
      ],
      "metadata": {
        "id": "A46YVMa0m0ur"
      },
      "execution_count": null,
      "outputs": []
    },
    {
      "cell_type": "code",
      "source": [
        "df4\n",
        "#This is displaying the stores and their count of open POs"
      ],
      "metadata": {
        "colab": {
          "base_uri": "https://localhost:8080/"
        },
        "id": "YsouvdYtu30e",
        "outputId": "3dfc78b2-4b2e-4e09-b0f8-cd7e8d1d1b8d"
      },
      "execution_count": null,
      "outputs": [
        {
          "output_type": "execute_result",
          "data": {
            "text/plain": [
              "STORE NAME\n",
              "0552-BLM LENOX                 12\n",
              "0400-CABAZON OUTLET             9\n",
              "0180-BLM SAN FRANCISCO          8\n",
              "0325-CAMARILLO OUTLET           7\n",
              "0505-BLM VALLEY FAIR            7\n",
              "0039-LOS ANGELES                6\n",
              "0516-VALLEYFAIR                 6\n",
              "0366-BLM BOCA RATON             6\n",
              "0382-CENTURY CITY               6\n",
              "0398-NEWPORT                    6\n",
              "0433-LAS VEGAS OUTLET           6\n",
              "0322-LIVERMORE OUTLET           6\n",
              "0287-MIAMI LINCOLN ROAD         6\n",
              "0507-BOCA RATON                 6\n",
              "0368-BLM STANFORD               6\n",
              "0191-BLM ROOSEVELT FIELD        6\n",
              "0201-BLM MIAMI                  6\n",
              "0266-ASPEN                      6\n",
              "0192-BLM CENTURY CITY           6\n",
              "0373-BLM FASHION VALLEY         5\n",
              "0580-CARLSBAD OUTLET            5\n",
              "0376-BLM NORTH MICHIGAN         5\n",
              "0576-BLM NEWPORT BEACH          5\n",
              "0518-RIVER OAKS                 5\n",
              "0289-SAWGRASS OUTLET            5\n",
              "0504-BLM NORWALK                5\n",
              "0216-BLM CHESTNUT HILL          5\n",
              "0367-BLM ORLANDO                5\n",
              "0554-TAMPA                      5\n",
              "0338-BLM SHERMAN OAKS           4\n",
              "0190-BLM SOHO                   4\n",
              "0179-BLM 59TH STREET            4\n",
              "0353-ABBOT KINNEY               4\n",
              "0273-MALIBU                     4\n",
              "0585-COPLEY PLACE               4\n",
              "0409-BLM GLENDALE               4\n",
              "0527-SAN DIEGO UTC              4\n",
              "0549-AVENTURA MALL              4\n",
              "0374-BLM SOUTH COAST PLAZA      3\n",
              "0575-BLM PALM BEACH GARDENS     3\n",
              "0449-PALM BEACH                 3\n",
              "0467-CHICAGO OUTLET             3\n",
              "0309-BLM SHORT HILL             3\n",
              "0295-MIAMI DESIGN DISTRICT      3\n",
              "0292-LAS VEGAS                  3\n",
              "0571-GREENWICH                  3\n",
              "0506-KING OF PRUSSIA            3\n",
              "0359-WOODBURY OUTLET            3\n",
              "0553-BLM TYSONS                 2\n",
              "0378-BROOME STREET              2\n",
              "0550-BLM BERGEN COUNTY          2\n",
              "0472-EAST HAMPTON               2\n",
              "0551-BLM WHITE PLAINS           1\n",
              "0555-ATLANTA                    1\n",
              "0183-MADISON AVENUE             1\n",
              "0581-ORLANDO OUTLET             1\n",
              "0109-MEATPACKING DISTRICT       1\n",
              "0509-SAWGRASS ACC OUTLET        1\n",
              "Name: QTY Received, dtype: int64"
            ]
          },
          "metadata": {},
          "execution_count": 20
        }
      ]
    },
    {
      "cell_type": "code",
      "source": [
        "SumOfOpen = df4.sum(axis=0)\n",
        "print(SumOfOpen, \"Open POs\")\n",
        "#This is showing the amount of POs that are Open"
      ],
      "metadata": {
        "colab": {
          "base_uri": "https://localhost:8080/"
        },
        "id": "ZnAGPEtozGBz",
        "outputId": "148f04ea-1785-4b10-8dd9-fcd4ea5871f4"
      },
      "execution_count": null,
      "outputs": [
        {
          "output_type": "stream",
          "name": "stdout",
          "text": [
            "257 Open POs\n"
          ]
        }
      ]
    },
    {
      "cell_type": "code",
      "source": [
        "df4.plot(kind='box')\n",
        "#This is a box plot of all stores count of POs with 0 units received - Meaning \"Open\""
      ],
      "metadata": {
        "colab": {
          "base_uri": "https://localhost:8080/",
          "height": 282
        },
        "id": "GGQg5ud8DtHJ",
        "outputId": "e6de7ed4-ae8f-4713-b4f8-4fc72e72fba2"
      },
      "execution_count": null,
      "outputs": [
        {
          "output_type": "execute_result",
          "data": {
            "text/plain": [
              "<matplotlib.axes._subplots.AxesSubplot at 0x7f3b1ba31890>"
            ]
          },
          "metadata": {},
          "execution_count": 22
        },
        {
          "output_type": "display_data",
          "data": {
            "image/png": "[encoded data removed]",
            "text/plain": [
              "<Figure size 432x288 with 1 Axes>"
            ]
          },
          "metadata": {
            "needs_background": "light"
          }
        }
      ]
    },
    {
      "cell_type": "code",
      "source": [
        "Top5=df4.nlargest(5)\n",
        "#This is filtering the top 5 stores with the most POs \"Open\"\n",
        "Top5.plot(kind = 'bar', x = 'Store Name', y = 'Number of Open POs')\n",
        "#This is plotting the top 5 stores with the most POs \"Open\""
      ],
      "metadata": {
        "colab": {
          "base_uri": "https://localhost:8080/",
          "height": 420
        },
        "id": "d_YeZilwxdAj",
        "outputId": "0bff4d23-1a90-4f94-89a9-a38858002430"
      },
      "execution_count": null,
      "outputs": [
        {
          "output_type": "execute_result",
          "data": {
            "text/plain": [
              "<matplotlib.axes._subplots.AxesSubplot at 0x7f3b1b97c610>"
            ]
          },
          "metadata": {},
          "execution_count": 23
        },
        {
          "output_type": "display_data",
          "data": {
            "image/png": "[encoded data removed]",
            "text/plain": [
              "<Figure size 432x288 with 1 Axes>"
            ]
          },
          "metadata": {
            "needs_background": "light"
          }
        }
      ]
    },
    {
      "cell_type": "markdown",
      "source": [
        "My capstone project is analyzing the POs that have been loaded to our MPOS system (KWI) for our stores to complete the intake of merchandise that was received. During my analysis, I was able to identify that based on the timeframe that I pulled the data from, there has been a total of 3,884 total POs loaded to the KWI system for the stores to receive. Of that total of POs loaded there is still currently **257 POs open to date**. Therefore, the total of POs that have been received is 3,627 POs with a total of 113,513 units. The top 5 stores with the most Open POs are BLM Lenox (Atlanta, GA) - **12 POs Open**, Cabazon Outlet (Cabazon, CA) - **9 POs Open**, BLM San Francisco (San Francisco, CA) - **8 POs Open**, Camarillo Outlet (Camarillo, CA) - **7 POs Open**, and BLM Valley Fair (Santa Clara, CA) - **7 POs Open**. \n",
        "\n",
        "This is useful to my company because it is a way to ensure stores are compliant with receiving their deliveries into the MPOS system in a timely manner. This ensures that we (corporate) has complete visibility of their stock on hand and allows us to allocate items based on their inventory levels."
      ],
      "metadata": {
        "id": "pwcQ645-BuP_"
      }
    }
  ]
}